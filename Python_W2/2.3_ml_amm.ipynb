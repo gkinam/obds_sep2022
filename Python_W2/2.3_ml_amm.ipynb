{
 "cells": [
  {
   "cell_type": "markdown",
   "id": "12533ba6-a414-4fe7-8bec-d4f27d39b2e5",
   "metadata": {},
   "source": [
    "# Using ML techniques to infer a multiplier\n",
    "\n",
    "### Scenario\n",
    "\n",
    "You discover that the number of apple seeds is directly tied to the overall height of the fruit, the seed count just needs to be multiplied by some fixed number. Create a model such that given the number of seeds, you can predict the height of the fruit. ***Use an iterative guessing approach to estimate the value of the multiplier.***"
   ]
  },
  {
   "cell_type": "markdown",
   "id": "2cc3efe5-553f-4be9-95e0-ee1a4c96ebea",
   "metadata": {},
   "source": [
    "### We use two packages for this\n",
    "1. random - to generate random numbers\n",
    "2. numpy - this package handles matricies (or more technically arrays, which may have more dimensions than a matrix)"
   ]
  },
  {
   "cell_type": "code",
   "execution_count": 114,
   "id": "6359a1f8-8f41-4709-9898-7faf13fa5d4a",
   "metadata": {},
   "outputs": [],
   "source": [
    "import numpy as np\n",
    "import random "
   ]
  },
  {
   "cell_type": "markdown",
   "id": "b9bcff20-4918-4051-838a-8e9e788d0400",
   "metadata": {},
   "source": [
    "## Part 1 - Set up data"
   ]
  },
  {
   "cell_type": "markdown",
   "id": "21f82737-0ec7-4981-aaea-b95537961a83",
   "metadata": {},
   "source": [
    "### Randomly select the multiplier\n",
    "This will be the value the seed count is multiplied by, and the number we're trying to discover\n",
    "* Select a random number between 10 and 100 (uniform distribution) and set it equal to a variable named \"actual_multiplier\""
   ]
  },
  {
   "cell_type": "code",
   "execution_count": 115,
   "id": "767e5ea2-fd39-42c8-a615-34ebaff96076",
   "metadata": {},
   "outputs": [
    {
     "name": "stdout",
     "output_type": "stream",
     "text": [
      "20.74604563536897\n"
     ]
    }
   ],
   "source": [
    "actual_multiplier = random.uniform(10,100)\n",
    "print(actual_multiplier)"
   ]
  },
  {
   "cell_type": "markdown",
   "id": "f27dd8bf-eaa5-4006-9ab8-d6905ddc249e",
   "metadata": {},
   "source": [
    "### Collect some apple seeds\n",
    "Collect some samples of apple seeds, and measure the associated fruits\n",
    "* To start we'll use 10 samples with different numbers of seeds in each sample. Here we'll use numbers 1, 2, ..., 9, 10\n",
    "    * Make a numpy array named seed_count_array with these values\n",
    "* For obvious reasons, we will not be measuring any apples right now. We're going to cheat a bit and say that the height of the associated apples were the number of seeds times our multiplier value plus noise\n",
    "    * Make a numpy array called apple_height_array that is length 10, and equal to the seed_count_array times the actual_multiplier\n",
    "    * Use the np.random.random method to create an array of length 10, and name it noise_array\n",
    "    * Add the values from the elements of the noise array to the elements of apple_height_array\n",
    "* Print out the actual_multiplier, seed_count_array, and apple_height_array"
   ]
  },
  {
   "cell_type": "code",
   "execution_count": 116,
   "id": "f3b5b472-30b9-49e1-bbe0-d5fa502896f2",
   "metadata": {},
   "outputs": [
    {
     "data": {
      "text/plain": [
       "array([ 1,  2,  3,  4,  5,  6,  7,  8,  9, 10])"
      ]
     },
     "execution_count": 116,
     "metadata": {},
     "output_type": "execute_result"
    }
   ],
   "source": [
    "seed_count_array = np.array(range(1,11)) # alternate - np.arange(1,11) or [x+1 for x in range(10)] - list comprehension\n",
    "seed_count_array"
   ]
  },
  {
   "cell_type": "code",
   "execution_count": 117,
   "id": "b342f3eb-bb6d-4e99-a968-43cca30a8c23",
   "metadata": {},
   "outputs": [
    {
     "data": {
      "text/plain": [
       "array([ 20.74604564,  41.49209127,  62.23813691,  82.98418254,\n",
       "       103.73022818, 124.47627381, 145.22231945, 165.96836508,\n",
       "       186.71441072, 207.46045635])"
      ]
     },
     "execution_count": 117,
     "metadata": {},
     "output_type": "execute_result"
    }
   ],
   "source": [
    "apple_height_array = seed_count_array * actual_multiplier\n",
    "apple_height_array"
   ]
  },
  {
   "cell_type": "code",
   "execution_count": 118,
   "id": "8bc76ad0-d1ac-435b-a63b-f860a8c6c02e",
   "metadata": {},
   "outputs": [],
   "source": [
    "noise_array = np.array(object = np.random.random(size = 10))\n",
    "noise_array\n",
    "apple_height_array = apple_height_array+noise_array"
   ]
  },
  {
   "cell_type": "markdown",
   "id": "34c2c05d-d52f-4a38-be42-fc71c4e47f53",
   "metadata": {},
   "source": [
    "### Sidenote - How contrived is this exercise?\n",
    "\n",
    "This is toy problem where we know the answer before we start. The point of this example is understand overall process of iterative improvement. Relationships typically being modelled with ML are more complicated than a simple multiplier, but suprisingly little changes for more complex problems. Here we're modelling a single parameter, but many models used in biology have 10s of millions, but are built out of many simple calculations like our exercise. The math is more advanced (but maybe not as much as you might think) and beyond our scope, but wouldn't serve much practical use anyway since these calculations are never ever done by hand, and a comprehensive understanding of them is not strictly necessary unless researching novel algorithm designs."
   ]
  },
  {
   "cell_type": "markdown",
   "id": "7671afc0-8e38-41f7-aeba-5308772b45eb",
   "metadata": {},
   "source": [
    "## Part 2 - Build out a training loop"
   ]
  },
  {
   "cell_type": "markdown",
   "id": "47364488-5e4e-4123-88dc-17465b0ce6ae",
   "metadata": {
    "tags": []
   },
   "source": [
    "### Steps (Add steps from slides here)\n",
    "1. write nested for-loops to 1) make a random prediction for each sample and 2) go through 10 epochs (function name - predict_multiplier - guesses a value from -100 to 100)\n",
    "2. function name - calculate_loss that substracts the prediction from true value (at each step we will print loss, predicted multiplier, actual multiplier, predicted target, actual target (height) and no. of seeds)\n",
    "3. create a variable - keeps track of the best loss value (best_loss) - make a list (called best_param_list) that appends to another list loss,predicted multiplier, actual multiplier, predicted target, actual target, and no. of seeds whenever a new loss is found. 2) try increasing no. of epochs (comment out print statement)\n",
    "4. update the predict function to take in previous step's prediction and loss to make the output more accurate - add a step before your loop to initialise these values\n",
    "5.Multiply the loss function with a learning rate of 0.001"
   ]
  },
  {
   "cell_type": "code",
   "execution_count": 13,
   "id": "f7b0d68a-944b-47a8-b7f3-54670497b45a",
   "metadata": {},
   "outputs": [],
   "source": [
    "#1\n",
    "def predict_multiplier(min = -100, max = 100):\n",
    "    multiplier = random.uniform (min, max)\n",
    "    return multiplier"
   ]
  },
  {
   "cell_type": "code",
   "execution_count": 119,
   "id": "5582c582-b971-4605-ad39-17839cc29996",
   "metadata": {},
   "outputs": [],
   "source": [
    "#2\n",
    "def calculate_loss(true_value, predicted_value):\n",
    "    loss = true_value - predicted_value\n",
    "    return loss"
   ]
  },
  {
   "cell_type": "code",
   "execution_count": null,
   "id": "ce33a654-6bac-427c-aa30-3e4b6e06b65f",
   "metadata": {},
   "outputs": [],
   "source": [
    "#2\n",
    "epoch_count = 10\n",
    "for epoch in range (epoch_count): \n",
    "    print(f\"loss, predicted_target, actual_target, predicted_multiplier, actual_multiplier, seed_number\")\n",
    "    for s, seed in enumerate(seed_count_array): #s contains index and seed contains the value for that index\n",
    "        guess = predict_multiplier()\n",
    "        predicted_target = seed * guess\n",
    "        loss = calculate_loss(apple_height_array[s], predicted_target)\n",
    "        print(loss, predicted_target, apple_height_array[s], guess, actual_multiplier, seed)\n",
    "    print()"
   ]
  },
  {
   "cell_type": "code",
   "execution_count": 54,
   "id": "079e272d-0360-4fdf-85dc-a51470259107",
   "metadata": {},
   "outputs": [],
   "source": [
    "#3\n",
    "best_loss = 1000\n",
    "epoch_count = 1000\n",
    "best_param_list = []\n",
    "for epoch in range (epoch_count): \n",
    "    # print(f\"loss, predicted_target, actual_target, predicted_multiplier, actual_multiplier, seed_number\")\n",
    "    for s, seed in enumerate(seed_count_array): #s contains index and seed contains the value for that index\n",
    "        guess = predict_multiplier()\n",
    "        predicted_target = seed * guess\n",
    "        loss = calculate_loss(apple_height_array[s], predicted_target)\n",
    "        output = [loss, predicted_target, apple_height_array[s], guess, actual_multiplier, seed]\n",
    "        if abs(best_loss) > abs(loss):\n",
    "            best_loss = loss\n",
    "            best_param_list.append(output)\n",
    "            # print(best_param_list)\n",
    "       # print(best_loss, loss, predicted_target, apple_height_array[s], guess, actual_multiplier, seed)\n",
    "   # print()"
   ]
  },
  {
   "cell_type": "code",
   "execution_count": null,
   "id": "5bb929ae-7fbb-4adc-8c26-bc161b056f2a",
   "metadata": {},
   "outputs": [],
   "source": [
    "#3\n",
    "print(best_loss)\n",
    "for row in best_param_list:\n",
    "    print(row)\n",
    "print(best_param_list[-1][0])"
   ]
  },
  {
   "cell_type": "code",
   "execution_count": 120,
   "id": "a59c95a9-2d41-4264-a3f3-479eca910b5f",
   "metadata": {},
   "outputs": [],
   "source": [
    "#4\n",
    "def predict_multiplier_1(prev_predict, prev_loss, min = -100, max = 100):\n",
    "    if prev_loss < 0:\n",
    "        multiplier = random.uniform(min, prev_predict)\n",
    "    elif prev_loss > 0:\n",
    "        multiplier = random.uniform(prev_predict, max)\n",
    "    elif prev_loss == 0:\n",
    "        multiplier = prev_predict\n",
    "    return multiplier"
   ]
  },
  {
   "cell_type": "code",
   "execution_count": 96,
   "id": "aef7e873-9a6f-4f11-b904-d395410aedec",
   "metadata": {},
   "outputs": [],
   "source": [
    "#4 - alternate way (function)\n",
    "def predict_multiplier(prev_predict, prev_loss):\n",
    "    if prev_loss < 0:\n",
    "        multiplier = prev_predict - (prev_predict * 0.1) #this does not work when both prev_predict and prev_loss are negative\n",
    "    elif prev_loss > 0:\n",
    "        multiplier = prev_predict + (prev_predict * 0.1)\n",
    "    elif prev_loss == 0:\n",
    "        multiplier = prev_predict \n",
    "    return multiplier"
   ]
  },
  {
   "cell_type": "code",
   "execution_count": 124,
   "id": "d030b5ea-2760-4d0b-b895-520b2b1b740f",
   "metadata": {},
   "outputs": [],
   "source": [
    "#4\n",
    "best_loss = 1000\n",
    "epoch_count = 100\n",
    "best_param_list = []\n",
    "loss = 0\n",
    "all_loss = []\n",
    "guess = random.uniform(-100, 100)\n",
    "for epoch in range (epoch_count): \n",
    "    # print(f\"loss, predicted_target, actual_target, predicted_multiplier, actual_multiplier, seed_number\")\n",
    "    for s, seed in enumerate(seed_count_array): #s contains index and seed contains the value for that index\n",
    "        guess = predict_multiplier_1(guess, loss)\n",
    "        predicted_target = seed * guess\n",
    "        loss = calculate_loss(apple_height_array[s], predicted_target)\n",
    "        all_loss.append(loss)\n",
    "        output = [loss, predicted_target, apple_height_array[s], guess, actual_multiplier, seed]\n",
    "        if abs(best_loss) > abs(loss):\n",
    "            best_loss = loss\n",
    "            best_param_list.append(output)\n",
    "            # print(best_param_list)\n",
    "       # print(best_loss, loss, predicted_target, apple_height_array[s], guess, actual_multiplier, seed)\n",
    "   # print()"
   ]
  },
  {
   "cell_type": "code",
   "execution_count": null,
   "id": "061595cb-6e9e-4e02-9ec7-b2802eebf54f",
   "metadata": {},
   "outputs": [],
   "source": [
    "print(best_loss)\n",
    "for row in best_param_list:\n",
    "    print(row)"
   ]
  },
  {
   "cell_type": "code",
   "execution_count": 122,
   "id": "2fefce1b-f917-4503-896f-28face57088f",
   "metadata": {},
   "outputs": [],
   "source": [
    "import matplotlib.pyplot as plt"
   ]
  },
  {
   "cell_type": "code",
   "execution_count": 125,
   "id": "8362feb5-2083-4ad8-ab87-30f8133c2734",
   "metadata": {},
   "outputs": [
    {
     "name": "stdout",
     "output_type": "stream",
     "text": [
      "[-5.7317079105925615, 1.9730861482404265, -154.49261637420497, -173.0352551608434, -181.95664210733753, 377.2545184029384, -221.67024818642557, 20.68430714541654, -44.373230588422246, 1098.8082349994795]\n"
     ]
    },
    {
     "data": {
      "image/png": "[encoded data removed]",
      "text/plain": [
       "<Figure size 432x288 with 1 Axes>"
      ]
     },
     "metadata": {
      "needs_background": "light"
     },
     "output_type": "display_data"
    }
   ],
   "source": [
    "plt.plot(all_loss[:100])\n",
    "print(all_loss[90:100])"
   ]
  },
  {
   "cell_type": "code",
   "execution_count": null,
   "id": "06b42a2d-e388-44c5-a8bc-e8bd1461e762",
   "metadata": {},
   "outputs": [],
   "source": []
  }
 ],
 "metadata": {
  "kernelspec": {
   "display_name": "Python 3 (ipykernel)",
   "language": "python",
   "name": "python3"
  },
  "language_info": {
   "codemirror_mode": {
    "name": "ipython",
    "version": 3
   },
   "file_extension": ".py",
   "mimetype": "text/x-python",
   "name": "python",
   "nbconvert_exporter": "python",
   "pygments_lexer": "ipython3",
   "version": "3.9.12"
  }
 },
 "nbformat": 4,
 "nbformat_minor": 5
}

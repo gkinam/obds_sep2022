{
 "cells": [
  {
   "cell_type": "markdown",
   "id": "12533ba6-a414-4fe7-8bec-d4f27d39b2e5",
   "metadata": {},
   "source": [
    "# Using ML techniques to infer a multiplier\n",
    "\n",
    "### Scenario\n",
    "\n",
    "You discover that the number of apple seeds is directly tied to the overall height of the fruit, the seed count just needs to be multiplied by some fixed number. Create a model such that given the number of seeds, you can predict the height of the fruit. ***Use an iterative guessing approach to estimate the value of the multiplier.***"
   ]
  },
  {
   "cell_type": "markdown",
   "id": "2cc3efe5-553f-4be9-95e0-ee1a4c96ebea",
   "metadata": {},
   "source": [
    "### We use two packages for this\n",
    "1. random - to generate random numbers\n",
    "2. numpy - this package handles matricies (or more technically arrays, which may have more dimensions than a matrix)"
   ]
  },
  {
   "cell_type": "code",
   "execution_count": 5,
   "id": "6359a1f8-8f41-4709-9898-7faf13fa5d4a",
   "metadata": {},
   "outputs": [],
   "source": [
    "import numpy as np\n",
    "import random "
   ]
  },
  {
   "cell_type": "markdown",
   "id": "b9bcff20-4918-4051-838a-8e9e788d0400",
   "metadata": {},
   "source": [
    "## Part 1 - Set up data"
   ]
  },
  {
   "cell_type": "markdown",
   "id": "21f82737-0ec7-4981-aaea-b95537961a83",
   "metadata": {},
   "source": [
    "### Randomly select the multiplier\n",
    "This will be the value the seed count is multiplied by, and the number we're trying to discover\n",
    "* Select a random number between 10 and 100 (uniform distribution) and set it equal to a variable named \"actual_multiplier\""
   ]
  },
  {
   "cell_type": "code",
   "execution_count": 19,
   "id": "767e5ea2-fd39-42c8-a615-34ebaff96076",
   "metadata": {},
   "outputs": [
    {
     "name": "stdout",
     "output_type": "stream",
     "text": [
      "73.35399422268213\n"
     ]
    }
   ],
   "source": [
    "actual_multiplier = random.uniform(10,100)\n",
    "print(actual_multiplier)"
   ]
  },
  {
   "cell_type": "code",
   "execution_count": null,
   "id": "5471bef3-9ebd-48cc-a7a4-ee743855af2d",
   "metadata": {},
   "outputs": [],
   "source": []
  },
  {
   "cell_type": "markdown",
   "id": "f27dd8bf-eaa5-4006-9ab8-d6905ddc249e",
   "metadata": {},
   "source": [
    "### Collect some apple seeds\n",
    "Collect some samples of apple seeds, and measure the associated fruits\n",
    "* To start we'll use 10 samples with different numbers of seeds in each sample. Here we'll use numbers 1, 2, ..., 9, 10\n",
    "    * Make a numpy array named seed_count_array with these values\n",
    "* For obvious reasons, we will not be measuring any apples right now. We're going to cheat a bit and say that the height of the associated apples were the number of seeds times our multiplier value plus noise\n",
    "    * Make a numpy array called apple_height_array that is length 10, and equal to the seed_count_array times the actual_multiplier\n",
    "    * Use the np.random.random method to create an array of length 10, and name it noise_array\n",
    "    * Add the values from the elements of the noise array to the elements of apple_height_array\n",
    "* Print out the actual_multiplier, seed_count_array, and apple_height_array"
   ]
  },
  {
   "cell_type": "code",
   "execution_count": 7,
   "id": "f3b5b472-30b9-49e1-bbe0-d5fa502896f2",
   "metadata": {},
   "outputs": [
    {
     "data": {
      "text/plain": [
       "array([ 1,  2,  3,  4,  5,  6,  7,  8,  9, 10])"
      ]
     },
     "execution_count": 7,
     "metadata": {},
     "output_type": "execute_result"
    }
   ],
   "source": [
    "seed_count_array = np.array(range(1,11)) # alternate - np.arange(1,11) or [x+1 for x in range(10)]\n",
    "seed_count_array"
   ]
  },
  {
   "cell_type": "code",
   "execution_count": 8,
   "id": "9ea54437-9b3b-43d8-9d74-30cc7460e81e",
   "metadata": {},
   "outputs": [
    {
     "data": {
      "text/plain": [
       "array([ 11,  22,  33,  44,  55,  66,  77,  88,  99, 110])"
      ]
     },
     "execution_count": 8,
     "metadata": {},
     "output_type": "execute_result"
    }
   ],
   "source": [
    "apple_height_array = seed_count_array * actual_multiplier\n",
    "apple_height_array"
   ]
  },
  {
   "cell_type": "code",
   "execution_count": 9,
   "id": "948b292b-8f3b-4254-b405-70f807159f6b",
   "metadata": {},
   "outputs": [
    {
     "data": {
      "text/plain": [
       "array([0.39123305, 0.46918944, 0.50868444, 0.95361529, 0.70135775,\n",
       "       0.78243863, 0.50317105, 0.3545299 , 0.47419082, 0.81559455])"
      ]
     },
     "execution_count": 9,
     "metadata": {},
     "output_type": "execute_result"
    }
   ],
   "source": [
    "noise_array = np.array(object = np.random.random(size = 10))\n",
    "noise_array"
   ]
  },
  {
   "cell_type": "code",
   "execution_count": 10,
   "id": "0a9bc3c0-09a5-4c7a-94a7-dc997d0fbd26",
   "metadata": {},
   "outputs": [],
   "source": [
    "apple_height_array = apple_height_array+noise_array"
   ]
  },
  {
   "cell_type": "markdown",
   "id": "34c2c05d-d52f-4a38-be42-fc71c4e47f53",
   "metadata": {},
   "source": [
    "### Sidenote - How contrived is this exercise?\n",
    "\n",
    "This is toy problem where we know the answer before we start. The point of this example is understand overall process of iterative improvement. Relationships typically being modelled with ML are more complicated than a simple multiplier, but suprisingly little changes for more complex problems. Here we're modelling a single parameter, but many models used in biology have 10s of millions, but are built out of many simple calculations like our exercise. The math is more advanced (but maybe not as much as you might think) and beyond our scope, but wouldn't serve much practical use anyway since these calculations are never ever done by hand, and a comprehensive understanding of them is not strictly necessary unless researching novel algorithm designs."
   ]
  },
  {
   "cell_type": "markdown",
   "id": "47364488-5e4e-4123-88dc-17465b0ce6ae",
   "metadata": {
    "tags": []
   },
   "source": [
    "### Steps (Add steps from slides here)\n",
    "1. write nested for-loops to 1) make a random prediction for each sample and 2) go through 10 epochs (function name - predict_multiplier - guesses a value from -100 to 100)\n",
    "2. function name - calculate_loss that substracts the prediction from true value (at each step we will print loss, predicted multiplier, actual multiplier, predicted target, actual target (height) and no. of seeds)\n",
    "3. create a variable - keeps track of the best loss value (best_loss) - make a list (called best_param_list) that appends to another list loss,predicted multiplier, actual multiplier, predicted target, actual target, and no. of seeds whenever a new loss is found. 2) try increasing no. of epochs (comment out print statement)\n",
    "4. update the predict function to take in previous step's prediction and loss to make the output more accurate - add a step before your loop to initialise these values\n",
    "5.Multiply the loss function with a learning rate of 0.001"
   ]
  },
  {
   "cell_type": "code",
   "execution_count": 11,
   "id": "f7b0d68a-944b-47a8-b7f3-54670497b45a",
   "metadata": {},
   "outputs": [],
   "source": [
    "def predict_multiplier_1(predict, loss, min = -100, max = 100):\n",
    "    if loss < 0:\n",
    "        multiplier = random.uniform(min < predict, max)\n",
    "    elif loss > 0:\n",
    "        multiplier = random.uniform(min, max > predict) \n",
    "    else:\n",
    "        multiplier = random.uniform(min, max)\n",
    "    return multiplier"
   ]
  },
  {
   "cell_type": "code",
   "execution_count": 20,
   "id": "14ce0eaf-9483-451f-8c86-e241a84db058",
   "metadata": {},
   "outputs": [],
   "source": [
    "def predict_multiplier(predict, loss):\n",
    "    if loss < 0:\n",
    "        multiplier = predict - (0.1 * predict)\n",
    "    elif loss > 0:\n",
    "        multiplier = predict + (0.1 * predict)\n",
    "    else:\n",
    "        multiplier = random.uniform(-100, 100)\n",
    "    return multiplier       "
   ]
  },
  {
   "cell_type": "code",
   "execution_count": null,
   "id": "28d4c8e6-131e-4ed9-8f19-bbd58d1c1e43",
   "metadata": {},
   "outputs": [],
   "source": [
    "# alternate way - 4 function\n",
    "# def predict_multiplier(predict, loss):\n",
    "#    return predict + (loss*0.001) # 0.001 - learning rate"
   ]
  },
  {
   "cell_type": "code",
   "execution_count": 13,
   "id": "315cf123-b9aa-44c7-93c9-908e640084a5",
   "metadata": {},
   "outputs": [],
   "source": [
    "def calculate_loss(true_value, predicted_value):\n",
    "    loss = true_value - predicted_value\n",
    "    return loss"
   ]
  },
  {
   "cell_type": "code",
   "execution_count": null,
   "id": "ce33a654-6bac-427c-aa30-3e4b6e06b65f",
   "metadata": {},
   "outputs": [],
   "source": [
    "#2\n",
    "epoch_count = 10\n",
    "for epoch in range(epoch_count):\n",
    "    print('loss, predicted_target, apple_height_array[sample], guess, actual_multiplier, seed_count_array[sample]')\n",
    "    for sample in range(len(seed_count_array)):\n",
    "        guess = predict_multiplier()\n",
    "        predicted_target = seed_count_array[sample] * guess\n",
    "        loss = calculate_loss(apple_height_array[sample], predicted_target)\n",
    "        print(loss, predicted_target, apple_height_array[sample], guess, actual_multiplier, seed_count_array[sample])\n",
    "    print()"
   ]
  },
  {
   "cell_type": "code",
   "execution_count": 82,
   "id": "079e272d-0360-4fdf-85dc-a51470259107",
   "metadata": {},
   "outputs": [],
   "source": [
    "#3\n",
    "epoch_count = 1000\n",
    "best_loss = 1000\n",
    "best_param_list = []\n",
    "for epoch in range(epoch_count):\n",
    "    #print('best_loss, loss, predicted_target, apple_height_array[sample], guess, actual_multiplier, seed_count_array[sample]')\n",
    "    for sample in range(len(seed_count_array)): #could have used enumerate instead of length\n",
    "        guess = predict_multiplier()\n",
    "        predicted_target = seed_count_array[sample] * guess\n",
    "        loss = calculate_loss(apple_height_array[sample], predicted_target)\n",
    "        output = [loss, predicted_target, apple_height_array[sample], guess, actual_multiplier, seed_count_array[sample]]\n",
    "        if abs(best_loss) > abs(loss):\n",
    "            best_loss = loss\n",
    "            best_param_list.append(output)\n",
    "        #print(best_loss, loss, predicted_target, apple_height_array[sample], guess, actual_multiplier, seed_count_array[sample])\n",
    "    #print()"
   ]
  },
  {
   "cell_type": "code",
   "execution_count": 156,
   "id": "5bb929ae-7fbb-4adc-8c26-bc161b056f2a",
   "metadata": {},
   "outputs": [
    {
     "name": "stdout",
     "output_type": "stream",
     "text": [
      "47.33990993231572\n",
      "[72.70146681999887, -48.70146681999886, 24, -48.70146681999886, 24, 1]\n",
      "[47.33990993231572, 0.6600900676842798, 48, 0.3300450338421399, 24, 2]\n"
     ]
    }
   ],
   "source": [
    "print(best_loss)\n",
    "for row in best_param_list:\n",
    "    print(row)"
   ]
  },
  {
   "cell_type": "code",
   "execution_count": 31,
   "id": "117c17ac-c5e4-4ad6-837f-4341a25f1985",
   "metadata": {},
   "outputs": [],
   "source": [
    "#4\n",
    "epoch_count = 100000\n",
    "best_loss = 1000\n",
    "best_param_list = []\n",
    "loss = 1000\n",
    "guess = 100\n",
    "for epoch in range(epoch_count):\n",
    "    #print('best_loss, loss, predicted_target, apple_height_array[sample], guess, actual_multiplier, seed_count_array[sample]')\n",
    "    for sample in range(len(seed_count_array)): #could have used enumerate instead of length\n",
    "        guess = predict_multiplier(predict = guess, loss = loss)\n",
    "        predicted_target = seed_count_array[sample] * guess\n",
    "        loss = calculate_loss(apple_height_array[sample], predicted_target)\n",
    "        output = [loss, predicted_target, apple_height_array[sample], guess, actual_multiplier, seed_count_array[sample]]\n",
    "        if abs(best_loss) > abs(loss):\n",
    "            best_loss = loss\n",
    "            best_param_list.append(output)\n",
    "        #print(best_loss, loss, predicted_target, apple_height_array[sample], guess, actual_multiplier, seed_count_array[sample])\n",
    "    #print()"
   ]
  },
  {
   "cell_type": "code",
   "execution_count": 68,
   "id": "b10e9624-dc28-4f93-b78d-10231265c9ab",
   "metadata": {},
   "outputs": [
    {
     "name": "stdout",
     "output_type": "stream",
     "text": [
      "-0.10364583929604976\n",
      "[-75.65011535384168, 87.04134840731308, 11.391233053471396, 87.04134840731308, 73.35399422268213, 1]\n",
      "[-18.958208533391137, 30.349441586862532, 11.391233053471396, 30.349441586862532, 73.35399422268213, 1]\n",
      "[-18.105764179790384, 117.57995500459218, 99.4741908248018, 13.064439444954687, 73.35399422268213, 9]\n",
      "[-6.764360455744551, 117.57995500459218, 110.81559454884763, 11.757995500459218, 73.35399422268213, 10]\n",
      "[0.809037103058099, 10.582195950413297, 11.391233053471396, 10.582195950413297, 73.35399422268213, 1]\n",
      "[0.32935071728425314, 22.139838720857263, 22.469189438141516, 11.069919360428631, 73.35399422268213, 2]\n",
      "[-0.3058593520430488, 11.697092405514445, 11.391233053471396, 11.697092405514445, 73.35399422268213, 1]\n",
      "[0.26741456306629985, 11.123818490405096, 11.391233053471396, 11.123818490405096, 73.35399422268213, 1]\n",
      "[-0.2666205564037085, 11.657853609875104, 11.391233053471396, 11.657853609875104, 73.35399422268213, 1]\n",
      "[-0.2627039237627642, 11.65393697723416, 11.391233053471396, 11.65393697723416, 73.35399422268213, 1]\n",
      "[-0.258788606973928, 11.650021660445324, 11.391233053471396, 11.650021660445324, 73.35399422268213, 1]\n",
      "[-0.2548746055951234, 11.64610765906652, 11.391233053471396, 11.64610765906652, 73.35399422268213, 1]\n",
      "[-0.25096191918440525, 11.642194972655801, 11.391233053471396, 11.642194972655801, 73.35399422268213, 1]\n",
      "[-0.24705054730000242, 11.638283600771398, 11.391233053471396, 11.638283600771398, 73.35399422268213, 1]\n",
      "[-0.2431404895002789, 11.634373542971675, 11.391233053471396, 11.634373542971675, 73.35399422268213, 1]\n",
      "[-0.2392317453437478, 11.630464798815144, 11.391233053471396, 11.630464798815144, 73.35399422268213, 1]\n",
      "[-0.23532431438906798, 11.626557367860464, 11.391233053471396, 11.626557367860464, 73.35399422268213, 1]\n",
      "[-0.23141819619504744, 11.622651249666443, 11.391233053471396, 11.622651249666443, 73.35399422268213, 1]\n",
      "[-0.227513390320647, 11.618746443792043, 11.391233053471396, 11.618746443792043, 73.35399422268213, 1]\n",
      "[-0.21551600050912612, 111.03111054935675, 110.81559454884763, 11.103111054935676, 73.35399422268213, 10]\n",
      "[-0.17821341580616945, 110.9938079646538, 110.81559454884763, 11.099380796465379, 73.35399422268213, 10]\n",
      "[-0.1409233634718987, 110.95651791231953, 110.81559454884763, 11.095651791231953, 73.35399422268213, 10]\n",
      "[-0.10364583929604976, 110.91924038814368, 110.81559454884763, 11.091924038814367, 73.35399422268213, 10]\n"
     ]
    }
   ],
   "source": [
    "print(best_loss)\n",
    "for row in best_param_list:\n",
    "    print(row)"
   ]
  },
  {
   "cell_type": "code",
   "execution_count": 223,
   "id": "5198c7ca-9cda-4575-8391-1461a1fe806a",
   "metadata": {},
   "outputs": [
    {
     "name": "stderr",
     "output_type": "stream",
     "text": [
      "/var/folders/b_/drg8gqvj38n0vbrfqvqz3k1c0000gn/T/ipykernel_71182/3918075627.py:12: RuntimeWarning: overflow encountered in multiply\n",
      "  predicted_target = seed_count_array[sample] * guess\n"
     ]
    }
   ],
   "source": [
    "# alternate way - 4\n",
    "epoch_count = 10000\n",
    "best_loss = 1000\n",
    "best_param_list = []\n",
    "guess = random.uniform(-100, 100)\n",
    "loss = calculate_loss(apple_height_array[0], guess*seed_count_array[0])\n",
    "\n",
    "for epoch in range(epoch_count):\n",
    "    #print('best_loss, loss, predicted_target, apple_height_array[sample], guess, actual_multiplier, seed_count_array[sample]')\n",
    "    for sample in range(len(seed_count_array)): #could have used enumerate instead of length\n",
    "        guess = predict_multiplier(predict = guess, loss = loss)\n",
    "        predicted_target = seed_count_array[sample] * guess\n",
    "        loss = calculate_loss(apple_height_array[sample], predicted_target)\n",
    "        output = [loss, predicted_target, apple_height_array[sample], guess, actual_multiplier, seed_count_array[sample]]\n",
    "        if abs(best_loss) > abs(loss):\n",
    "            best_loss = loss\n",
    "            best_param_list.append(output)\n",
    "        #print(best_loss, loss, predicted_target, apple_height_array[sample], guess, actual_multiplier, seed_count_array[sample])\n",
    "    #print()"
   ]
  },
  {
   "cell_type": "code",
   "execution_count": 224,
   "id": "02bf0c9d-6228-4e08-b1d8-a7ac9e8228f0",
   "metadata": {},
   "outputs": [
    {
     "name": "stdout",
     "output_type": "stream",
     "text": [
      "94.97271352785023\n",
      "[94.97271352785023, -70.97271352785023, 24, -70.97271352785023, 24, 1]\n"
     ]
    }
   ],
   "source": [
    "print(best_loss)\n",
    "for row in best_param_list:\n",
    "    print(row)"
   ]
  },
  {
   "cell_type": "code",
   "execution_count": null,
   "id": "422ec99a-67cb-45b8-a0b6-146b2b123a29",
   "metadata": {},
   "outputs": [],
   "source": []
  }
 ],
 "metadata": {
  "kernelspec": {
   "display_name": "Python 3 (ipykernel)",
   "language": "python",
   "name": "python3"
  },
  "language_info": {
   "codemirror_mode": {
    "name": "ipython",
    "version": 3
   },
   "file_extension": ".py",
   "mimetype": "text/x-python",
   "name": "python",
   "nbconvert_exporter": "python",
   "pygments_lexer": "ipython3",
   "version": "3.9.12"
  }
 },
 "nbformat": 4,
 "nbformat_minor": 5
}

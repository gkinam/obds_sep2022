{
 "cells": [
  {
   "cell_type": "markdown",
   "id": "51414f95-affd-4cba-b46a-c134e0e29e76",
   "metadata": {
    "tags": []
   },
   "source": [
    "# MNIST classification using a SGD classifier and Scikit-Learn functions"
   ]
  },
  {
   "cell_type": "markdown",
   "id": "95c84858-d6a3-4d04-8494-5288c9a33d0a",
   "metadata": {},
   "source": [
    "### A few packages to get you going\n",
    "* We'll be loading many more throughout the tutorial\n",
    "* Download the dataset by executing the proceeding cells"
   ]
  },
  {
   "cell_type": "code",
   "execution_count": 140,
   "id": "a0fd32d7-d9f4-4e80-bb42-0877c2f51eee",
   "metadata": {},
   "outputs": [],
   "source": [
    "from sklearn.datasets import fetch_openml\n",
    "import matplotlib.pyplot as plt\n",
    "import numpy as np"
   ]
  },
  {
   "cell_type": "code",
   "execution_count": 2,
   "id": "a0afab77-e9d7-412e-ae78-7880cfad6c73",
   "metadata": {},
   "outputs": [],
   "source": [
    "mnist = fetch_openml('mnist_784', version=1, as_frame=False)"
   ]
  },
  {
   "cell_type": "markdown",
   "id": "240b1038-13d3-4d90-b775-657c04c3a981",
   "metadata": {},
   "source": [
    "* Print dictionary keys"
   ]
  },
  {
   "cell_type": "code",
   "execution_count": 4,
   "id": "63ba03b9-7671-4b20-b96e-821d2c8bc240",
   "metadata": {},
   "outputs": [
    {
     "data": {
      "text/plain": [
       "dict_keys(['data', 'target', 'frame', 'categories', 'feature_names', 'target_names', 'DESCR', 'details', 'url'])"
      ]
     },
     "execution_count": 4,
     "metadata": {},
     "output_type": "execute_result"
    }
   ],
   "source": [
    "mnist.keys()"
   ]
  },
  {
   "cell_type": "markdown",
   "id": "61367a84-b553-4aa9-86bb-1b27ac72c619",
   "metadata": {},
   "source": [
    "* Save the contents of the data and target from the MNIST dictionary into data_array and target array variables\n",
    "    * Also print out the shape of data_array\n",
    "* Notice the type of the target array – convert this to np.uint8 using the astype() method"
   ]
  },
  {
   "cell_type": "code",
   "execution_count": 21,
   "id": "49455c61-01d9-4eab-b8fa-3f8ebb270f06",
   "metadata": {},
   "outputs": [
    {
     "data": {
      "text/plain": [
       "numpy.ndarray"
      ]
     },
     "execution_count": 21,
     "metadata": {},
     "output_type": "execute_result"
    }
   ],
   "source": [
    "data_array = mnist[\"data\"]   #X\n",
    "data_array.shape\n",
    "type(data_array)"
   ]
  },
  {
   "cell_type": "code",
   "execution_count": 14,
   "id": "37a19326-c631-4f7f-8db0-e05277d91212",
   "metadata": {},
   "outputs": [
    {
     "data": {
      "text/plain": [
       "numpy.ndarray"
      ]
     },
     "execution_count": 14,
     "metadata": {},
     "output_type": "execute_result"
    }
   ],
   "source": [
    "target_array = mnist[\"target\"]  #y - target also called label\n",
    "type(target_array)"
   ]
  },
  {
   "cell_type": "code",
   "execution_count": 50,
   "id": "bbd23268-acc5-4b7a-b0ce-112a96aad64a",
   "metadata": {},
   "outputs": [],
   "source": [
    "target_array = target_array.astype(np.uint8)"
   ]
  },
  {
   "cell_type": "markdown",
   "id": "77e43f92-3394-4192-925e-f89ac996beeb",
   "metadata": {},
   "source": [
    "* Print and glance over the description given in the mnist dictionary\n",
    "* Plot an image of the very first image in the dataset (matplotlib imshow)\n",
    "\n",
    "* Bonus ACTIVITY: Write a function that takes in the index of a sample and plots it\n"
   ]
  },
  {
   "cell_type": "code",
   "execution_count": 33,
   "id": "3502601a-3b9a-4369-91d2-adb3d6bd17ec",
   "metadata": {},
   "outputs": [
    {
     "name": "stdout",
     "output_type": "stream",
     "text": [
      "**Author**: Yann LeCun, Corinna Cortes, Christopher J.C. Burges  \n",
      "**Source**: [MNIST Website](http://yann.lecun.com/exdb/mnist/) - Date unknown  \n",
      "**Please cite**:  \n",
      "\n",
      "The MNIST database of handwritten digits with 784 features, raw data available at: http://yann.lecun.com/exdb/mnist/. It can be split in a training set of the first 60,000 examples, and a test set of 10,000 examples  \n",
      "\n",
      "It is a subset of a larger set available from NIST. The digits have been size-normalized and centered in a fixed-size image. It is a good database for people who want to try learning techniques and pattern recognition methods on real-world data while spending minimal efforts on preprocessing and formatting. The original black and white (bilevel) images from NIST were size normalized to fit in a 20x20 pixel box while preserving their aspect ratio. The resulting images contain grey levels as a result of the anti-aliasing technique used by the normalization algorithm. the images were centered in a 28x28 image by computing the center of mass of the pixels, and translating the image so as to position this point at the center of the 28x28 field.  \n",
      "\n",
      "With some classification methods (particularly template-based methods, such as SVM and K-nearest neighbors), the error rate improves when the digits are centered by bounding box rather than center of mass. If you do this kind of pre-processing, you should report it in your publications. The MNIST database was constructed from NIST's NIST originally designated SD-3 as their training set and SD-1 as their test set. However, SD-3 is much cleaner and easier to recognize than SD-1. The reason for this can be found on the fact that SD-3 was collected among Census Bureau employees, while SD-1 was collected among high-school students. Drawing sensible conclusions from learning experiments requires that the result be independent of the choice of training set and test among the complete set of samples. Therefore it was necessary to build a new database by mixing NIST's datasets.  \n",
      "\n",
      "The MNIST training set is composed of 30,000 patterns from SD-3 and 30,000 patterns from SD-1. Our test set was composed of 5,000 patterns from SD-3 and 5,000 patterns from SD-1. The 60,000 pattern training set contained examples from approximately 250 writers. We made sure that the sets of writers of the training set and test set were disjoint. SD-1 contains 58,527 digit images written by 500 different writers. In contrast to SD-3, where blocks of data from each writer appeared in sequence, the data in SD-1 is scrambled. Writer identities for SD-1 is available and we used this information to unscramble the writers. We then split SD-1 in two: characters written by the first 250 writers went into our new training set. The remaining 250 writers were placed in our test set. Thus we had two sets with nearly 30,000 examples each. The new training set was completed with enough examples from SD-3, starting at pattern # 0, to make a full set of 60,000 training patterns. Similarly, the new test set was completed with SD-3 examples starting at pattern # 35,000 to make a full set with 60,000 test patterns. Only a subset of 10,000 test images (5,000 from SD-1 and 5,000 from SD-3) is available on this site. The full 60,000 sample training set is available.\n",
      "\n",
      "Downloaded from openml.org.\n"
     ]
    }
   ],
   "source": [
    "print(mnist[\"DESCR\"])"
   ]
  },
  {
   "cell_type": "code",
   "execution_count": 22,
   "id": "5dd44eb4-8d58-4f30-8711-39bfaa28ea06",
   "metadata": {},
   "outputs": [
    {
     "data": {
      "text/plain": [
       "<matplotlib.image.AxesImage at 0x7fb4fae441f0>"
      ]
     },
     "execution_count": 22,
     "metadata": {},
     "output_type": "execute_result"
    },
    {
     "data": {
      "image/png": "[encoded data removed]",
      "text/plain": [
       "<Figure size 432x288 with 1 Axes>"
      ]
     },
     "metadata": {
      "needs_background": "light"
     },
     "output_type": "display_data"
    }
   ],
   "source": [
    "plt.imshow(data_array[0].reshape(28,28))"
   ]
  },
  {
   "cell_type": "code",
   "execution_count": 24,
   "id": "9127fa3c-55d4-4420-a392-16bbac3f64a6",
   "metadata": {},
   "outputs": [],
   "source": [
    "def plotting(index):\n",
    "    img = plt.imshow(data_array[index].reshape(28,28))\n",
    "    return img    "
   ]
  },
  {
   "cell_type": "code",
   "execution_count": 32,
   "id": "be47097d-b8ce-4bcd-b2ec-049db14a28b3",
   "metadata": {},
   "outputs": [
    {
     "data": {
      "text/plain": [
       "<matplotlib.image.AxesImage at 0x7fb4fb3b2a30>"
      ]
     },
     "execution_count": 32,
     "metadata": {},
     "output_type": "execute_result"
    },
    {
     "data": {
      "image/png": "[encoded data removed]",
      "text/plain": [
       "<Figure size 432x288 with 1 Axes>"
      ]
     },
     "metadata": {
      "needs_background": "light"
     },
     "output_type": "display_data"
    }
   ],
   "source": [
    "plotting(4)"
   ]
  },
  {
   "cell_type": "markdown",
   "id": "c98ac73c-f452-4252-b4e2-871be516f96e",
   "metadata": {},
   "source": [
    "### train_test_split\n",
    "* turn off shuffle"
   ]
  },
  {
   "cell_type": "code",
   "execution_count": 51,
   "id": "b43cecf1-a1aa-4d9c-9679-e29c3538f88e",
   "metadata": {},
   "outputs": [],
   "source": [
    "# 80% - training dataset and 20% - testing dataset\n",
    "from sklearn.model_selection import train_test_split\n",
    "X_train, X_test, y_train, y_test = train_test_split(data_array, target_array, shuffle = False)"
   ]
  },
  {
   "cell_type": "code",
   "execution_count": 53,
   "id": "e1984b5a-6dc7-4235-a9e8-2fbe961687b3",
   "metadata": {},
   "outputs": [
    {
     "data": {
      "text/plain": [
       "(52500, 784)"
      ]
     },
     "execution_count": 53,
     "metadata": {},
     "output_type": "execute_result"
    }
   ],
   "source": [
    "X_train.shape"
   ]
  },
  {
   "cell_type": "code",
   "execution_count": 54,
   "id": "6ae0bab0-d00c-4b07-b52a-749976773bcb",
   "metadata": {},
   "outputs": [
    {
     "data": {
      "text/plain": [
       "(17500, 784)"
      ]
     },
     "execution_count": 54,
     "metadata": {},
     "output_type": "execute_result"
    }
   ],
   "source": [
    "X_test.shape"
   ]
  },
  {
   "cell_type": "code",
   "execution_count": 55,
   "id": "3cd35687-6041-4fd2-a64a-4161e7ec7c31",
   "metadata": {},
   "outputs": [
    {
     "data": {
      "text/plain": [
       "(52500,)"
      ]
     },
     "execution_count": 55,
     "metadata": {},
     "output_type": "execute_result"
    }
   ],
   "source": [
    "y_train.shape"
   ]
  },
  {
   "cell_type": "code",
   "execution_count": 56,
   "id": "931b6bcc-e880-41c2-a6be-b10acef09313",
   "metadata": {},
   "outputs": [
    {
     "data": {
      "text/plain": [
       "(17500,)"
      ]
     },
     "execution_count": 56,
     "metadata": {},
     "output_type": "execute_result"
    }
   ],
   "source": [
    "y_test.shape"
   ]
  },
  {
   "cell_type": "markdown",
   "id": "b23f7d94-c8fd-46a3-9a22-16823a02aa95",
   "metadata": {},
   "source": [
    "### Make a new target array (for only train dataset) that is composed of Boolean values (True for 5s and False for not 5s)\n",
    "* Name the new array target_array_train_5\n"
   ]
  },
  {
   "cell_type": "code",
   "execution_count": 137,
   "id": "50e8f12f-2eac-407a-b8dd-940630e63504",
   "metadata": {},
   "outputs": [
    {
     "name": "stdout",
     "output_type": "stream",
     "text": [
      "[ True False False False False False False False False False]\n",
      "[5 0 4 1 9 2 1 3 1 4]\n"
     ]
    },
    {
     "data": {
      "text/plain": [
       "(52500,)"
      ]
     },
     "execution_count": 137,
     "metadata": {},
     "output_type": "execute_result"
    }
   ],
   "source": [
    "target_array_train_5 = y_train == 5\n",
    "print(target_array_train_5[0:10])\n",
    "print(y_train[0:10])\n",
    "target_array_train_5.shape"
   ]
  },
  {
   "cell_type": "markdown",
   "id": "c4ae4235-2044-49b5-862e-7ab8172e3c85",
   "metadata": {
    "tags": []
   },
   "source": [
    "### StandardScaler"
   ]
  },
  {
   "cell_type": "code",
   "execution_count": 83,
   "id": "fdff4302-6106-4a5b-9633-af8baea3a7a5",
   "metadata": {},
   "outputs": [],
   "source": [
    "from sklearn.preprocessing import StandardScaler\n",
    "scaler = StandardScaler()\n",
    "scaler.fit(X_train)\n",
    "X_train_scaled = scaler.transform(X_train)"
   ]
  },
  {
   "cell_type": "markdown",
   "id": "55328835-4085-425b-a73c-fec339225cdb",
   "metadata": {},
   "source": [
    "### SGDClassifier\n",
    "* Name it sgd_clf\n",
    "* Fit the model to the data with the fives target\n",
    "* Check to see if it worked using the predict function on a specific sample you know is a 5; also a sample you know is not a 5\n",
    "    * Individual predictions will require a reshape (necessary command will appear in error)\n"
   ]
  },
  {
   "cell_type": "code",
   "execution_count": 79,
   "id": "d744e6ac-c318-40bc-91c4-12cbc588c1c1",
   "metadata": {},
   "outputs": [
    {
     "data": {
      "text/plain": [
       "SGDClassifier()"
      ]
     },
     "execution_count": 79,
     "metadata": {},
     "output_type": "execute_result"
    }
   ],
   "source": [
    "from sklearn.linear_model import SGDClassifier\n",
    "sgd_clf = SGDClassifier(max_iter = 1000, tol = 1e-3)\n",
    "sgd_clf.fit(X_train, target_array_train_5)"
   ]
  },
  {
   "cell_type": "code",
   "execution_count": 84,
   "id": "375c1efa-5118-4375-aa1b-c3547df3ceab",
   "metadata": {},
   "outputs": [
    {
     "data": {
      "text/plain": [
       "SGDClassifier()"
      ]
     },
     "execution_count": 84,
     "metadata": {},
     "output_type": "execute_result"
    }
   ],
   "source": [
    "from sklearn.linear_model import SGDClassifier\n",
    "sgd_clf_sc = SGDClassifier(max_iter = 1000, tol = 1e-3)\n",
    "sgd_clf_sc.fit(X_train_scaled, target_array_train_5)"
   ]
  },
  {
   "cell_type": "code",
   "execution_count": 78,
   "id": "f3c9eb4d-1b4e-4d89-807b-9169251f6e74",
   "metadata": {},
   "outputs": [
    {
     "name": "stdout",
     "output_type": "stream",
     "text": [
      "[9 2 6 6 6 1 9 5 0 5 9 8 2 6 6 4 6 4 6 4]\n"
     ]
    }
   ],
   "source": [
    "print(y_test[0:20])"
   ]
  },
  {
   "cell_type": "code",
   "execution_count": 71,
   "id": "b7bb013a-2dc6-49dc-b6df-6c3ac37c9900",
   "metadata": {},
   "outputs": [
    {
     "data": {
      "text/plain": [
       "array([ True])"
      ]
     },
     "execution_count": 71,
     "metadata": {},
     "output_type": "execute_result"
    }
   ],
   "source": [
    "sgd_clf.predict(X_test[9].reshape(1, -1))"
   ]
  },
  {
   "cell_type": "code",
   "execution_count": null,
   "id": "d8636cee-98c0-4240-87c1-fdc8fba3d517",
   "metadata": {},
   "outputs": [],
   "source": []
  },
  {
   "cell_type": "markdown",
   "id": "3d29df6b-2979-4233-aa32-2513fa8f8e65",
   "metadata": {},
   "source": [
    "### cross_val_score\n",
    "* Implement it using 3-fold cross validation, scoring for accuracy\n"
   ]
  },
  {
   "cell_type": "code",
   "execution_count": 82,
   "id": "a4d4fbc2-d6ad-4853-8598-c60c65d8fd00",
   "metadata": {},
   "outputs": [
    {
     "data": {
      "text/plain": [
       "array([0.95897143, 0.96754286, 0.95782857])"
      ]
     },
     "execution_count": 82,
     "metadata": {},
     "output_type": "execute_result"
    }
   ],
   "source": [
    "from sklearn.model_selection import cross_val_score\n",
    "cross_val_score(sgd_clf, X_train, target_array_train_5, cv = 3)"
   ]
  },
  {
   "cell_type": "code",
   "execution_count": 85,
   "id": "30a367a9-8e38-435f-beda-0e842d7149ec",
   "metadata": {},
   "outputs": [
    {
     "data": {
      "text/plain": [
       "array([0.9704    , 0.96914286, 0.96537143])"
      ]
     },
     "execution_count": 85,
     "metadata": {},
     "output_type": "execute_result"
    }
   ],
   "source": [
    "from sklearn.model_selection import cross_val_score\n",
    "cross_val_score(sgd_clf_sc, X_train_scaled, target_array_train_5, cv = 3)"
   ]
  },
  {
   "cell_type": "markdown",
   "id": "45dfe506-c95d-41e4-a231-d609a3f94bbd",
   "metadata": {},
   "source": [
    "### Calculate the accuracy if the model always predicted not-5\n"
   ]
  },
  {
   "cell_type": "code",
   "execution_count": 97,
   "id": "8e7d84e1-a6f5-4042-b0ca-d30dd3e74d45",
   "metadata": {},
   "outputs": [
    {
     "data": {
      "text/plain": [
       "90.97904761904762"
      ]
     },
     "execution_count": 97,
     "metadata": {},
     "output_type": "execute_result"
    }
   ],
   "source": [
    "sum(target_array_train_5)\n",
    "accuracy = ((52500 - 4736)/52500)*100\n",
    "accuracy"
   ]
  },
  {
   "cell_type": "code",
   "execution_count": null,
   "id": "519e886c-cca9-40b3-bd19-89cbb1d4f97b",
   "metadata": {},
   "outputs": [],
   "source": [
    "### counter = 0 \n",
    "### for i, index in enumerate(y_train):\n",
    "    if index == 5:\n",
    "        counter += counter\n",
    "    else:\n",
    "        continue\n",
    "print(counter)"
   ]
  },
  {
   "cell_type": "markdown",
   "id": "8d3bdd18-ec4c-4f9e-805b-8139aa16783f",
   "metadata": {},
   "source": [
    "### cross_val_predict \n",
    "* Name the array of predictions target_array_train_5_pred"
   ]
  },
  {
   "cell_type": "code",
   "execution_count": 100,
   "id": "29b5139a-fc61-4ca4-b502-32ae6040a64d",
   "metadata": {},
   "outputs": [],
   "source": [
    "from sklearn.model_selection import cross_val_predict\n",
    "target_array_train_5_pred_sc = cross_val_predict(sgd_clf_sc, X_train_scaled, target_array_train_5, cv = 3)"
   ]
  },
  {
   "cell_type": "code",
   "execution_count": 102,
   "id": "8003d20b-f361-483e-8da6-50a5b0fa3f79",
   "metadata": {},
   "outputs": [
    {
     "data": {
      "text/plain": [
       "(52500,)"
      ]
     },
     "execution_count": 102,
     "metadata": {},
     "output_type": "execute_result"
    }
   ],
   "source": [
    "target_array_train_5_pred_sc.shape"
   ]
  },
  {
   "cell_type": "code",
   "execution_count": 150,
   "id": "3f242dde-4045-4040-a63b-7a3fa0f87321",
   "metadata": {},
   "outputs": [
    {
     "data": {
      "text/plain": [
       "(52500,)"
      ]
     },
     "execution_count": 150,
     "metadata": {},
     "output_type": "execute_result"
    }
   ],
   "source": [
    "target_array_train_5_pred_bol = cross_val_predict(sgd_clf, X_train, target_array_train_5, cv = 3)\n",
    "target_array_train_5_pred.shape"
   ]
  },
  {
   "cell_type": "markdown",
   "id": "2c24fdb8-01e8-47e9-a8e6-b65d999b8db5",
   "metadata": {},
   "source": [
    "### precision_score; recall_score"
   ]
  },
  {
   "cell_type": "code",
   "execution_count": 151,
   "id": "6bd17b39-bf08-41e3-98ea-a70991c4f364",
   "metadata": {},
   "outputs": [],
   "source": [
    "# Precision = TP/(TP+FP)\n",
    "TP = np.sum(np.logical_and(target_array_train_5_pred_bol == 1, target_array_train_5 == 1))\n",
    "TN = np.sum(np.logical_and(target_array_train_5_pred_bol == 0, target_array_train_5 == 0))\n",
    "FP = np.sum(np.logical_and(target_array_train_5_pred_bol == 1, target_array_train_5 == 0))\n",
    "FN = np.sum(np.logical_and(target_array_train_5_pred_bol == 0, target_array_train_5 == 1))"
   ]
  },
  {
   "cell_type": "code",
   "execution_count": 152,
   "id": "76a50f85-f07a-4877-b148-54011feb457e",
   "metadata": {},
   "outputs": [
    {
     "data": {
      "text/plain": [
       "0.8734576004200577"
      ]
     },
     "execution_count": 152,
     "metadata": {},
     "output_type": "execute_result"
    }
   ],
   "source": [
    "# Precision = TP/(TP+FP)\n",
    "Precision = TP/(TP+FP)\n",
    "Precision"
   ]
  },
  {
   "cell_type": "code",
   "execution_count": 153,
   "id": "77b38f16-f966-46af-a83e-9eb30c90a534",
   "metadata": {},
   "outputs": [
    {
     "data": {
      "text/plain": [
       "0.7020468453260181"
      ]
     },
     "execution_count": 153,
     "metadata": {},
     "output_type": "execute_result"
    }
   ],
   "source": [
    "# Recall/Sensitivity = TP/(TP+FN)\n",
    "Recall = TP/(TP+FN)\n",
    "Recall"
   ]
  },
  {
   "cell_type": "code",
   "execution_count": 154,
   "id": "0d813eb1-7d0d-4ec1-85de-0f22671a2180",
   "metadata": {},
   "outputs": [
    {
     "data": {
      "text/plain": [
       "0.7020468453260181"
      ]
     },
     "execution_count": 154,
     "metadata": {},
     "output_type": "execute_result"
    }
   ],
   "source": [
    "from sklearn.metrics import recall_score\n",
    "recall_score(target_array_train_5, target_array_train_5_pred_bol)"
   ]
  },
  {
   "cell_type": "code",
   "execution_count": 155,
   "id": "1bbad741-cb43-429c-b9db-678a47f96893",
   "metadata": {},
   "outputs": [
    {
     "data": {
      "text/plain": [
       "0.8734576004200577"
      ]
     },
     "execution_count": 155,
     "metadata": {},
     "output_type": "execute_result"
    }
   ],
   "source": [
    "from sklearn.metrics import precision_score\n",
    "precision_score(target_array_train_5, target_array_train_5_pred_bol)"
   ]
  },
  {
   "cell_type": "code",
   "execution_count": 156,
   "id": "afc29629-263a-44ae-8277-df71b163b346",
   "metadata": {},
   "outputs": [
    {
     "data": {
      "text/plain": [
       "0.7676725047478371"
      ]
     },
     "execution_count": 156,
     "metadata": {},
     "output_type": "execute_result"
    }
   ],
   "source": [
    "recall_score_sc = recall_score(target_array_train_5, target_array_train_5_pred_sc)\n",
    "recall_score_sc"
   ]
  },
  {
   "cell_type": "code",
   "execution_count": 157,
   "id": "a1aa93dd-1af6-4ae2-ac3d-252c569169cf",
   "metadata": {},
   "outputs": [
    {
     "data": {
      "text/plain": [
       "0.8645437262357415"
      ]
     },
     "execution_count": 157,
     "metadata": {},
     "output_type": "execute_result"
    }
   ],
   "source": [
    "precision_score_sc = precision_score(target_array_train_5, target_array_train_5_pred_sc)\n",
    "precision_score_sc"
   ]
  },
  {
   "cell_type": "code",
   "execution_count": 159,
   "id": "34e29a39-72ca-46b8-abb4-ac974f622982",
   "metadata": {},
   "outputs": [
    {
     "data": {
      "text/plain": [
       "(0.8734576004200577, 0.7020468453260181, 0.7784277023865231, None)"
      ]
     },
     "execution_count": 159,
     "metadata": {},
     "output_type": "execute_result"
    }
   ],
   "source": [
    "# f1 score recall support \n",
    "from sklearn.metrics import precision_recall_fscore_support\n",
    "precision_recall_fscore_support(target_array_train_5, target_array_train_5_pred_bol, average = 'binary')"
   ]
  },
  {
   "cell_type": "markdown",
   "id": "1a71de58-02bf-4254-b80c-24f81677af41",
   "metadata": {},
   "source": [
    "### roc_curve\n",
    "* Run cross_val_predict as before, but add method='decision_function'\n",
    "* Use matplotlib plot to create ROC curve figure"
   ]
  },
  {
   "cell_type": "code",
   "execution_count": 130,
   "id": "b41ee1fa-912b-48e9-8310-e3ddde73190a",
   "metadata": {},
   "outputs": [
    {
     "data": {
      "text/plain": [
       "(52500,)"
      ]
     },
     "execution_count": 130,
     "metadata": {},
     "output_type": "execute_result"
    }
   ],
   "source": [
    "target_array_train_5_pred = cross_val_predict(sgd_clf, X_train, target_array_train_5, method = 'decision_function', cv = 3)\n",
    "target_array_train_5_pred.shape"
   ]
  },
  {
   "cell_type": "code",
   "execution_count": 144,
   "id": "7962fc91-3d82-4c34-942b-97939566390d",
   "metadata": {},
   "outputs": [
    {
     "name": "stdout",
     "output_type": "stream",
     "text": [
      "[  4040.62508875 -33801.21314135 -32401.02979792 -15069.00458529\n",
      " -25441.66006158  -9324.95997775 -10546.33620414 -19869.00353922\n",
      "  -6260.64031082  -9314.99819744]\n"
     ]
    }
   ],
   "source": [
    "print(target_array_train_5_pred[0:10])"
   ]
  },
  {
   "cell_type": "code",
   "execution_count": 146,
   "id": "7ebaca50-0268-40c6-8c3f-d464ec35a727",
   "metadata": {},
   "outputs": [],
   "source": [
    "from sklearn import metrics\n",
    "fpr, tpr, thresholds = metrics.roc_curve(target_array_train_5, target_array_train_5_pred)"
   ]
  },
  {
   "cell_type": "code",
   "execution_count": 163,
   "id": "0b6a80c4-8e82-4374-8fbe-24810d4088a3",
   "metadata": {},
   "outputs": [
    {
     "data": {
      "image/png": "[encoded data removed]",
      "text/plain": [
       "<Figure size 432x288 with 1 Axes>"
      ]
     },
     "metadata": {
      "needs_background": "light"
     },
     "output_type": "display_data"
    }
   ],
   "source": [
    "plt.plot(fpr,tpr,label=\"AUC=\"+str(auc))\n",
    "plt.plot([0, 1], [0, 1],'r--')\n",
    "plt.ylabel('True Positive Rate')\n",
    "plt.xlabel('False Positive Rate')\n",
    "plt.legend(loc = 'lower right')\n",
    "plt.show()"
   ]
  },
  {
   "cell_type": "code",
   "execution_count": null,
   "id": "d8c935f6-683b-4d3a-b434-0c44b8a6f0cc",
   "metadata": {},
   "outputs": [],
   "source": [
    "#when you have very low FP, you get really high TP; ideally AUC should be 1"
   ]
  },
  {
   "cell_type": "markdown",
   "id": "a1d093f4-4f07-4bb8-afaa-462fd9c6fe16",
   "metadata": {},
   "source": [
    "### roc_auc_score"
   ]
  },
  {
   "cell_type": "code",
   "execution_count": 148,
   "id": "63d131ec-b369-4154-9765-c6963423d02a",
   "metadata": {},
   "outputs": [],
   "source": [
    "auc = metrics.roc_auc_score(target_array_train_5, target_array_train_5_pred)"
   ]
  },
  {
   "cell_type": "code",
   "execution_count": 149,
   "id": "c253cea7-1df7-45b1-9be3-27da83cbee62",
   "metadata": {},
   "outputs": [
    {
     "data": {
      "text/plain": [
       "0.9648464574076613"
      ]
     },
     "execution_count": 149,
     "metadata": {},
     "output_type": "execute_result"
    }
   ],
   "source": [
    "auc"
   ]
  },
  {
   "cell_type": "markdown",
   "id": "c42e41bd-2e4e-4dfc-86c4-e9f1af763fdf",
   "metadata": {},
   "source": [
    "### Find the cross_val_pred for the SGD classifier using all 10 classes (change targets)\n",
    "* Use a new variable target_array_train_pred to save predictions "
   ]
  },
  {
   "cell_type": "code",
   "execution_count": 164,
   "id": "cf01346e-5bc0-488a-b9c5-093dac9d3f63",
   "metadata": {},
   "outputs": [
    {
     "data": {
      "text/plain": [
       "SGDClassifier()"
      ]
     },
     "execution_count": 164,
     "metadata": {},
     "output_type": "execute_result"
    }
   ],
   "source": [
    "from sklearn.linear_model import SGDClassifier\n",
    "sgd_clf_multi = SGDClassifier(max_iter = 1000, tol = 1e-3)\n",
    "sgd_clf_multi.fit(X_train, y_train)"
   ]
  },
  {
   "cell_type": "code",
   "execution_count": 165,
   "id": "2352a59c-6d60-4bd6-add5-a27298c01d15",
   "metadata": {},
   "outputs": [
    {
     "data": {
      "text/plain": [
       "SGDClassifier()"
      ]
     },
     "execution_count": 165,
     "metadata": {},
     "output_type": "execute_result"
    }
   ],
   "source": [
    "from sklearn.linear_model import SGDClassifier\n",
    "sgd_clf_multi.fit(X_train_scaled, y_train)"
   ]
  },
  {
   "cell_type": "code",
   "execution_count": 166,
   "id": "c8cc07c0-64dc-4805-a847-2eab5fbac0b0",
   "metadata": {},
   "outputs": [
    {
     "data": {
      "text/plain": [
       "array([0.87931429, 0.84468571, 0.85382857])"
      ]
     },
     "execution_count": 166,
     "metadata": {},
     "output_type": "execute_result"
    }
   ],
   "source": [
    "#cross val score\n",
    "cross_val_score(sgd_clf_multi, X_train, y_train, cv = 3)"
   ]
  },
  {
   "cell_type": "code",
   "execution_count": 170,
   "id": "0fd12599-7ca5-464e-bd2a-6508cf0e773a",
   "metadata": {},
   "outputs": [
    {
     "name": "stderr",
     "output_type": "stream",
     "text": [
      "/Users/kinam/opt/anaconda3/lib/python3.9/site-packages/sklearn/linear_model/_stochastic_gradient.py:696: ConvergenceWarning: Maximum number of iteration reached before convergence. Consider increasing max_iter to improve the fit.\n",
      "  warnings.warn(\n"
     ]
    },
    {
     "data": {
      "text/plain": [
       "array([0.89885714, 0.89725714, 0.9004    ])"
      ]
     },
     "execution_count": 170,
     "metadata": {},
     "output_type": "execute_result"
    }
   ],
   "source": [
    "#cross val score for scaled data\n",
    "cross_val_score(sgd_clf_multi, X_train_scaled, y_train, cv = 3)"
   ]
  },
  {
   "cell_type": "code",
   "execution_count": 168,
   "id": "0e09fa74-c3e5-46d3-a748-0f3f0b64064f",
   "metadata": {},
   "outputs": [],
   "source": [
    "#cross_val_predict\n",
    "target_array_train_pred = cross_val_predict(sgd_clf_multi, X_train, y_train, cv = 3)"
   ]
  },
  {
   "cell_type": "code",
   "execution_count": 172,
   "id": "c0b1740d-50d2-49a8-9f4f-3d593c8e481c",
   "metadata": {},
   "outputs": [
    {
     "name": "stderr",
     "output_type": "stream",
     "text": [
      "/Users/kinam/opt/anaconda3/lib/python3.9/site-packages/sklearn/linear_model/_stochastic_gradient.py:696: ConvergenceWarning: Maximum number of iteration reached before convergence. Consider increasing max_iter to improve the fit.\n",
      "  warnings.warn(\n"
     ]
    }
   ],
   "source": [
    "#cross_val_predict for scaled data\n",
    "target_array_train_pred_sc = cross_val_predict(sgd_clf_multi, X_train_scaled, y_train, cv = 3)"
   ]
  },
  {
   "cell_type": "code",
   "execution_count": 169,
   "id": "27ff9569-49d2-441c-b94d-14e1fe3d945d",
   "metadata": {},
   "outputs": [
    {
     "data": {
      "text/plain": [
       "(0.8722878913025062, 0.8703563153783035, 0.8703399550995936, None)"
      ]
     },
     "execution_count": 169,
     "metadata": {},
     "output_type": "execute_result"
    }
   ],
   "source": [
    "#f1 score\n",
    "precision_recall_fscore_support(y_train, target_array_train_pred, average = 'macro')"
   ]
  },
  {
   "cell_type": "code",
   "execution_count": 173,
   "id": "23eeb245-af45-499c-baef-96ac6682d839",
   "metadata": {},
   "outputs": [
    {
     "data": {
      "text/plain": [
       "(0.904328304961265, 0.8967248186034678, 0.8984287509225706, None)"
      ]
     },
     "execution_count": 173,
     "metadata": {},
     "output_type": "execute_result"
    }
   ],
   "source": [
    "#f1 score for scaled data\n",
    "precision_recall_fscore_support(y_train, target_array_train_pred_sc, average = 'macro')"
   ]
  },
  {
   "cell_type": "code",
   "execution_count": 186,
   "id": "35962ecb-8900-49ab-aa18-5837d3b58f36",
   "metadata": {},
   "outputs": [
    {
     "data": {
      "text/plain": [
       "array([[4950,    0,   53,   35,   12,   29,   42,    2,   50,   11],\n",
       "       [   2, 5654,  112,   42,    6,   14,   11,   35,   59,   13],\n",
       "       [  38,   21, 4656,  127,   51,   13,  116,   64,   99,   18],\n",
       "       [  17,   20,  284, 4627,   11,  147,   27,   45,   92,   81],\n",
       "       [  18,   20,   54,   33, 4530,   17,   74,   21,   91,  231],\n",
       "       [  89,   20,  100,  322,   79, 3607,  158,   27,  258,   79],\n",
       "       [  41,    7,   71,   17,   34,   73, 4929,    3,   29,    0],\n",
       "       [  24,   16,  115,   93,   83,   14,    6, 4675,   55,  368],\n",
       "       [  48,   95,  245,  371,   74,  168,   72,   18, 3885,  128],\n",
       "       [  42,   17,   48,  140,  271,   36,    4,  221,  157, 4293]])"
      ]
     },
     "execution_count": 186,
     "metadata": {},
     "output_type": "execute_result"
    }
   ],
   "source": [
    "#confusion matrix\n",
    "from sklearn.metrics import confusion_matrix\n",
    "matrix = confusion_matrix(y_train, target_array_train_pred)\n",
    "matrix"
   ]
  },
  {
   "cell_type": "code",
   "execution_count": 181,
   "id": "ceb6ade8-d2f4-4d62-821e-6a5a1844e06b",
   "metadata": {},
   "outputs": [
    {
     "name": "stdout",
     "output_type": "stream",
     "text": [
      "[[4875    0   24    5    8   51   35    3  181    2]\n",
      " [   1 5649   37   27    4   43    3    6  168   10]\n",
      " [  23   26 4581   88   58   26   59   34  297   11]\n",
      " [  15   18  110 4584    2  182   22   39  315   64]\n",
      " [  11   10   40    7 4535    8   37   17  265  159]\n",
      " [  25   18   36  141   47 3898   73   16  415   70]\n",
      " [  25   16   34    2   47   85 4880    7  108    0]\n",
      " [  14   10   49   27   44   11    4 4937  137  216]\n",
      " [  19   59   44   93    4  109   27    8 4695   46]\n",
      " [  19   18   25   54  118   29    1  165  289 4511]]\n"
     ]
    }
   ],
   "source": [
    "#confusion matrix for scaled data\n",
    "matrix_sc = confusion_matrix(y_train, target_array_train_pred_sc)\n",
    "print(sc)"
   ]
  },
  {
   "cell_type": "markdown",
   "id": "72fea275-944c-430d-9371-a00c2bacd530",
   "metadata": {},
   "source": [
    "### confusion_matrix"
   ]
  },
  {
   "cell_type": "code",
   "execution_count": 177,
   "id": "b21d41ba-b140-4d8b-9718-aa5f813fd6ce",
   "metadata": {},
   "outputs": [],
   "source": [
    "import seaborn as sn"
   ]
  },
  {
   "cell_type": "code",
   "execution_count": 188,
   "id": "2837e628-7412-486d-9d7d-e661e0e12b11",
   "metadata": {},
   "outputs": [
    {
     "data": {
      "image/png": "[encoded data removed]",
      "text/plain": [
       "<Figure size 864x648 with 2 Axes>"
      ]
     },
     "metadata": {},
     "output_type": "display_data"
    }
   ],
   "source": [
    "sn.set(font_scale=1.4) # for label size\n",
    "plt.figure(figsize = (12,9))\n",
    "sn.heatmap(matrix, annot=True, fmt = \"d\") # font size\n",
    "plt.show()"
   ]
  },
  {
   "cell_type": "code",
   "execution_count": 189,
   "id": "141395e8-186d-4314-8479-a43b41fac924",
   "metadata": {},
   "outputs": [
    {
     "data": {
      "image/png": "[encoded data removed]",
      "text/plain": [
       "<Figure size 864x648 with 2 Axes>"
      ]
     },
     "metadata": {},
     "output_type": "display_data"
    }
   ],
   "source": [
    "sn.set(font_scale=1.4) # for label size\n",
    "plt.figure(figsize = (12,9))\n",
    "sn.heatmap(matrix_sc, annot=True, fmt = \"d\") # font size\n",
    "plt.show()"
   ]
  },
  {
   "cell_type": "code",
   "execution_count": null,
   "id": "86ade10e-e58a-42a2-be32-d7e7b4a75a01",
   "metadata": {},
   "outputs": [],
   "source": []
  },
  {
   "cell_type": "code",
   "execution_count": null,
   "id": "b9d5a315-5b17-489f-9f05-d1dd054601b9",
   "metadata": {},
   "outputs": [],
   "source": [
    "import scikitplot as skplt\n",
    "skplt.metrics.plot_roc_curve(target_array_train_5, target_array_train_5_pred.reshape(1,len(target_array_train_5))\n",
    "plt.show()"
   ]
  }
 ],
 "metadata": {
  "kernelspec": {
   "display_name": "Python 3 (ipykernel)",
   "language": "python",
   "name": "python3"
  },
  "language_info": {
   "codemirror_mode": {
    "name": "ipython",
    "version": 3
   },
   "file_extension": ".py",
   "mimetype": "text/x-python",
   "name": "python",
   "nbconvert_exporter": "python",
   "pygments_lexer": "ipython3",
   "version": "3.9.12"
  }
 },
 "nbformat": 4,
 "nbformat_minor": 5
}

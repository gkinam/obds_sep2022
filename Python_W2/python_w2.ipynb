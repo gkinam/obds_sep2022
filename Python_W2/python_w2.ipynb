{
 "cells": [
  {
   "cell_type": "code",
   "execution_count": 11,
   "id": "07ebbf67-661c-4084-8c03-61f4809d528d",
   "metadata": {},
   "outputs": [],
   "source": [
    "import numpy as np\n",
    "import pandas as pd"
   ]
  },
  {
   "cell_type": "code",
   "execution_count": 17,
   "id": "d7c5106d-fb24-41ae-876a-bc54a7abab01",
   "metadata": {},
   "outputs": [],
   "source": [
    "idx_df = pd.read_csv('/Users/kinam/git/obds_sep2022/Python_W2/exercise1_idxstats.tsv', sep='\\t', header = None) # Read a tsv file"
   ]
  },
  {
   "cell_type": "code",
   "execution_count": 18,
   "id": "33daf157-210c-4fed-9a0e-527c45051f5f",
   "metadata": {},
   "outputs": [
    {
     "data": {
      "text/html": [
       "<div>\n",
       "<style scoped>\n",
       "    .dataframe tbody tr th:only-of-type {\n",
       "        vertical-align: middle;\n",
       "    }\n",
       "\n",
       "    .dataframe tbody tr th {\n",
       "        vertical-align: top;\n",
       "    }\n",
       "\n",
       "    .dataframe thead th {\n",
       "        text-align: right;\n",
       "    }\n",
       "</style>\n",
       "<table border=\"1\" class=\"dataframe\">\n",
       "  <thead>\n",
       "    <tr style=\"text-align: right;\">\n",
       "      <th></th>\n",
       "      <th>0</th>\n",
       "      <th>1</th>\n",
       "      <th>2</th>\n",
       "      <th>3</th>\n",
       "    </tr>\n",
       "  </thead>\n",
       "  <tbody>\n",
       "    <tr>\n",
       "      <th>0</th>\n",
       "      <td>chrM</td>\n",
       "      <td>16571</td>\n",
       "      <td>226</td>\n",
       "      <td>2</td>\n",
       "    </tr>\n",
       "    <tr>\n",
       "      <th>1</th>\n",
       "      <td>chr1</td>\n",
       "      <td>249250621</td>\n",
       "      <td>1202908</td>\n",
       "      <td>11586</td>\n",
       "    </tr>\n",
       "    <tr>\n",
       "      <th>2</th>\n",
       "      <td>chr2</td>\n",
       "      <td>243199373</td>\n",
       "      <td>1179409</td>\n",
       "      <td>11950</td>\n",
       "    </tr>\n",
       "    <tr>\n",
       "      <th>3</th>\n",
       "      <td>chr3</td>\n",
       "      <td>198022430</td>\n",
       "      <td>956939</td>\n",
       "      <td>7894</td>\n",
       "    </tr>\n",
       "    <tr>\n",
       "      <th>4</th>\n",
       "      <td>chr4</td>\n",
       "      <td>191154276</td>\n",
       "      <td>841065</td>\n",
       "      <td>8496</td>\n",
       "    </tr>\n",
       "  </tbody>\n",
       "</table>\n",
       "</div>"
      ],
      "text/plain": [
       "      0          1        2      3\n",
       "0  chrM      16571      226      2\n",
       "1  chr1  249250621  1202908  11586\n",
       "2  chr2  243199373  1179409  11950\n",
       "3  chr3  198022430   956939   7894\n",
       "4  chr4  191154276   841065   8496"
      ]
     },
     "execution_count": 18,
     "metadata": {},
     "output_type": "execute_result"
    }
   ],
   "source": [
    "idx_df.head()"
   ]
  },
  {
   "cell_type": "code",
   "execution_count": 19,
   "id": "ac7a21f3-a3d9-440e-a41a-17b0b3a803b1",
   "metadata": {},
   "outputs": [
    {
     "name": "stdout",
     "output_type": "stream",
     "text": [
      "/Users/kinam\n"
     ]
    }
   ],
   "source": [
    "!pwd"
   ]
  },
  {
   "cell_type": "code",
   "execution_count": 23,
   "id": "850aafb9-2c91-4dc0-a37a-71b4aae119a1",
   "metadata": {},
   "outputs": [],
   "source": [
    "idx_df.columns = ['Sequence name', 'Sequence length', 'Mapped segments', 'Unmapped segments']"
   ]
  },
  {
   "cell_type": "code",
   "execution_count": 24,
   "id": "58edcbd7-4e3b-435f-aea2-059bc8edb5bf",
   "metadata": {},
   "outputs": [
    {
     "data": {
      "text/html": [
       "<div>\n",
       "<style scoped>\n",
       "    .dataframe tbody tr th:only-of-type {\n",
       "        vertical-align: middle;\n",
       "    }\n",
       "\n",
       "    .dataframe tbody tr th {\n",
       "        vertical-align: top;\n",
       "    }\n",
       "\n",
       "    .dataframe thead th {\n",
       "        text-align: right;\n",
       "    }\n",
       "</style>\n",
       "<table border=\"1\" class=\"dataframe\">\n",
       "  <thead>\n",
       "    <tr style=\"text-align: right;\">\n",
       "      <th></th>\n",
       "      <th>Sequence name</th>\n",
       "      <th>Sequence length</th>\n",
       "      <th>Mapped segments</th>\n",
       "      <th>Unmapped segments</th>\n",
       "    </tr>\n",
       "  </thead>\n",
       "  <tbody>\n",
       "    <tr>\n",
       "      <th>0</th>\n",
       "      <td>chrM</td>\n",
       "      <td>16571</td>\n",
       "      <td>226</td>\n",
       "      <td>2</td>\n",
       "    </tr>\n",
       "    <tr>\n",
       "      <th>1</th>\n",
       "      <td>chr1</td>\n",
       "      <td>249250621</td>\n",
       "      <td>1202908</td>\n",
       "      <td>11586</td>\n",
       "    </tr>\n",
       "    <tr>\n",
       "      <th>2</th>\n",
       "      <td>chr2</td>\n",
       "      <td>243199373</td>\n",
       "      <td>1179409</td>\n",
       "      <td>11950</td>\n",
       "    </tr>\n",
       "    <tr>\n",
       "      <th>3</th>\n",
       "      <td>chr3</td>\n",
       "      <td>198022430</td>\n",
       "      <td>956939</td>\n",
       "      <td>7894</td>\n",
       "    </tr>\n",
       "    <tr>\n",
       "      <th>4</th>\n",
       "      <td>chr4</td>\n",
       "      <td>191154276</td>\n",
       "      <td>841065</td>\n",
       "      <td>8496</td>\n",
       "    </tr>\n",
       "  </tbody>\n",
       "</table>\n",
       "</div>"
      ],
      "text/plain": [
       "  Sequence name  Sequence length  Mapped segments  Unmapped segments\n",
       "0          chrM            16571              226                  2\n",
       "1          chr1        249250621          1202908              11586\n",
       "2          chr2        243199373          1179409              11950\n",
       "3          chr3        198022430           956939               7894\n",
       "4          chr4        191154276           841065               8496"
      ]
     },
     "execution_count": 24,
     "metadata": {},
     "output_type": "execute_result"
    }
   ],
   "source": [
    "idx_df.head()"
   ]
  },
  {
   "cell_type": "code",
   "execution_count": 25,
   "id": "6f855bb0-b885-44d0-b617-d30f71b8fdb2",
   "metadata": {},
   "outputs": [
    {
     "name": "stdout",
     "output_type": "stream",
     "text": [
      "<class 'pandas.core.frame.DataFrame'>\n",
      "RangeIndex: 26 entries, 0 to 25\n",
      "Data columns (total 4 columns):\n",
      " #   Column             Non-Null Count  Dtype \n",
      "---  ------             --------------  ----- \n",
      " 0   Sequence name      26 non-null     object\n",
      " 1   Sequence length    26 non-null     int64 \n",
      " 2   Mapped segments    26 non-null     int64 \n",
      " 3   Unmapped segments  26 non-null     int64 \n",
      "dtypes: int64(3), object(1)\n",
      "memory usage: 960.0+ bytes\n"
     ]
    }
   ],
   "source": [
    "idx_df.info()"
   ]
  },
  {
   "cell_type": "code",
   "execution_count": 26,
   "id": "03eb5534-157c-4dd8-af66-1ffbbb1ecce3",
   "metadata": {},
   "outputs": [
    {
     "data": {
      "text/html": [
       "<div>\n",
       "<style scoped>\n",
       "    .dataframe tbody tr th:only-of-type {\n",
       "        vertical-align: middle;\n",
       "    }\n",
       "\n",
       "    .dataframe tbody tr th {\n",
       "        vertical-align: top;\n",
       "    }\n",
       "\n",
       "    .dataframe thead th {\n",
       "        text-align: right;\n",
       "    }\n",
       "</style>\n",
       "<table border=\"1\" class=\"dataframe\">\n",
       "  <thead>\n",
       "    <tr style=\"text-align: right;\">\n",
       "      <th></th>\n",
       "      <th>Sequence length</th>\n",
       "      <th>Mapped segments</th>\n",
       "      <th>Unmapped segments</th>\n",
       "    </tr>\n",
       "  </thead>\n",
       "  <tbody>\n",
       "    <tr>\n",
       "      <th>count</th>\n",
       "      <td>2.600000e+01</td>\n",
       "      <td>2.600000e+01</td>\n",
       "      <td>2.600000e+01</td>\n",
       "    </tr>\n",
       "    <tr>\n",
       "      <th>mean</th>\n",
       "      <td>1.190652e+08</td>\n",
       "      <td>5.602201e+05</td>\n",
       "      <td>5.106119e+04</td>\n",
       "    </tr>\n",
       "    <tr>\n",
       "      <th>std</th>\n",
       "      <td>6.568174e+07</td>\n",
       "      <td>3.330361e+05</td>\n",
       "      <td>2.292555e+05</td>\n",
       "    </tr>\n",
       "    <tr>\n",
       "      <th>min</th>\n",
       "      <td>0.000000e+00</td>\n",
       "      <td>0.000000e+00</td>\n",
       "      <td>2.000000e+00</td>\n",
       "    </tr>\n",
       "    <tr>\n",
       "      <th>25%</th>\n",
       "      <td>6.678845e+07</td>\n",
       "      <td>3.426832e+05</td>\n",
       "      <td>4.109500e+03</td>\n",
       "    </tr>\n",
       "    <tr>\n",
       "      <th>50%</th>\n",
       "      <td>1.245109e+08</td>\n",
       "      <td>5.281825e+05</td>\n",
       "      <td>6.406000e+03</td>\n",
       "    </tr>\n",
       "    <tr>\n",
       "      <th>75%</th>\n",
       "      <td>1.581716e+08</td>\n",
       "      <td>8.117202e+05</td>\n",
       "      <td>7.852500e+03</td>\n",
       "    </tr>\n",
       "    <tr>\n",
       "      <th>max</th>\n",
       "      <td>2.492506e+08</td>\n",
       "      <td>1.202908e+06</td>\n",
       "      <td>1.174990e+06</td>\n",
       "    </tr>\n",
       "  </tbody>\n",
       "</table>\n",
       "</div>"
      ],
      "text/plain": [
       "       Sequence length  Mapped segments  Unmapped segments\n",
       "count     2.600000e+01     2.600000e+01       2.600000e+01\n",
       "mean      1.190652e+08     5.602201e+05       5.106119e+04\n",
       "std       6.568174e+07     3.330361e+05       2.292555e+05\n",
       "min       0.000000e+00     0.000000e+00       2.000000e+00\n",
       "25%       6.678845e+07     3.426832e+05       4.109500e+03\n",
       "50%       1.245109e+08     5.281825e+05       6.406000e+03\n",
       "75%       1.581716e+08     8.117202e+05       7.852500e+03\n",
       "max       2.492506e+08     1.202908e+06       1.174990e+06"
      ]
     },
     "execution_count": 26,
     "metadata": {},
     "output_type": "execute_result"
    }
   ],
   "source": [
    "idx_df.describe()"
   ]
  },
  {
   "cell_type": "code",
   "execution_count": 29,
   "id": "1b70548f-f0a2-418f-9555-a6c9f7980eb9",
   "metadata": {},
   "outputs": [
    {
     "data": {
      "text/plain": [
       "(26, 4)"
      ]
     },
     "execution_count": 29,
     "metadata": {},
     "output_type": "execute_result"
    }
   ],
   "source": [
    "idx_df.shape"
   ]
  },
  {
   "cell_type": "code",
   "execution_count": 30,
   "id": "1160ff25-e20f-4aea-a5f4-dd4339674f1e",
   "metadata": {},
   "outputs": [
    {
     "data": {
      "text/plain": [
       "RangeIndex(start=0, stop=26, step=1)"
      ]
     },
     "execution_count": 30,
     "metadata": {},
     "output_type": "execute_result"
    }
   ],
   "source": [
    "idx_df.index"
   ]
  },
  {
   "cell_type": "code",
   "execution_count": 31,
   "id": "e3cb2427-70e3-40a6-b8dd-247db01be7b4",
   "metadata": {},
   "outputs": [],
   "source": [
    "idx_df2 = idx_df.iloc[5:11,]"
   ]
  },
  {
   "cell_type": "code",
   "execution_count": 32,
   "id": "02581010-e7da-4bfa-b448-eb1d066398ea",
   "metadata": {},
   "outputs": [
    {
     "data": {
      "text/html": [
       "<div>\n",
       "<style scoped>\n",
       "    .dataframe tbody tr th:only-of-type {\n",
       "        vertical-align: middle;\n",
       "    }\n",
       "\n",
       "    .dataframe tbody tr th {\n",
       "        vertical-align: top;\n",
       "    }\n",
       "\n",
       "    .dataframe thead th {\n",
       "        text-align: right;\n",
       "    }\n",
       "</style>\n",
       "<table border=\"1\" class=\"dataframe\">\n",
       "  <thead>\n",
       "    <tr style=\"text-align: right;\">\n",
       "      <th></th>\n",
       "      <th>Sequence name</th>\n",
       "      <th>Sequence length</th>\n",
       "      <th>Mapped segments</th>\n",
       "      <th>Unmapped segments</th>\n",
       "    </tr>\n",
       "  </thead>\n",
       "  <tbody>\n",
       "    <tr>\n",
       "      <th>5</th>\n",
       "      <td>chr5</td>\n",
       "      <td>180915260</td>\n",
       "      <td>839376</td>\n",
       "      <td>7313</td>\n",
       "    </tr>\n",
       "    <tr>\n",
       "      <th>6</th>\n",
       "      <td>chr6</td>\n",
       "      <td>171115067</td>\n",
       "      <td>851357</td>\n",
       "      <td>6930</td>\n",
       "    </tr>\n",
       "    <tr>\n",
       "      <th>7</th>\n",
       "      <td>chr7</td>\n",
       "      <td>159138663</td>\n",
       "      <td>639203</td>\n",
       "      <td>7728</td>\n",
       "    </tr>\n",
       "    <tr>\n",
       "      <th>8</th>\n",
       "      <td>chr8</td>\n",
       "      <td>146364022</td>\n",
       "      <td>951606</td>\n",
       "      <td>8874</td>\n",
       "    </tr>\n",
       "    <tr>\n",
       "      <th>9</th>\n",
       "      <td>chr9</td>\n",
       "      <td>141213431</td>\n",
       "      <td>603020</td>\n",
       "      <td>6937</td>\n",
       "    </tr>\n",
       "  </tbody>\n",
       "</table>\n",
       "</div>"
      ],
      "text/plain": [
       "  Sequence name  Sequence length  Mapped segments  Unmapped segments\n",
       "5          chr5        180915260           839376               7313\n",
       "6          chr6        171115067           851357               6930\n",
       "7          chr7        159138663           639203               7728\n",
       "8          chr8        146364022           951606               8874\n",
       "9          chr9        141213431           603020               6937"
      ]
     },
     "execution_count": 32,
     "metadata": {},
     "output_type": "execute_result"
    }
   ],
   "source": [
    "idx_df2.head()"
   ]
  },
  {
   "cell_type": "code",
   "execution_count": 33,
   "id": "a45ae175-1063-459b-bb79-e646883481e6",
   "metadata": {},
   "outputs": [
    {
     "data": {
      "text/plain": [
       "(6, 4)"
      ]
     },
     "execution_count": 33,
     "metadata": {},
     "output_type": "execute_result"
    }
   ],
   "source": [
    "idx_df2.shape"
   ]
  },
  {
   "cell_type": "code",
   "execution_count": 48,
   "id": "76e65832-511f-4a3e-9a8f-f563eed6e85c",
   "metadata": {},
   "outputs": [],
   "source": [
    "chr_mapped = idx_df[[\"Sequence name\", \"Mapped segments\"]]"
   ]
  },
  {
   "cell_type": "code",
   "execution_count": 49,
   "id": "08518a17-a3d9-4c03-b062-eb656459444e",
   "metadata": {},
   "outputs": [
    {
     "data": {
      "text/html": [
       "<div>\n",
       "<style scoped>\n",
       "    .dataframe tbody tr th:only-of-type {\n",
       "        vertical-align: middle;\n",
       "    }\n",
       "\n",
       "    .dataframe tbody tr th {\n",
       "        vertical-align: top;\n",
       "    }\n",
       "\n",
       "    .dataframe thead th {\n",
       "        text-align: right;\n",
       "    }\n",
       "</style>\n",
       "<table border=\"1\" class=\"dataframe\">\n",
       "  <thead>\n",
       "    <tr style=\"text-align: right;\">\n",
       "      <th></th>\n",
       "      <th>Sequence name</th>\n",
       "      <th>Mapped segments</th>\n",
       "    </tr>\n",
       "  </thead>\n",
       "  <tbody>\n",
       "    <tr>\n",
       "      <th>0</th>\n",
       "      <td>chrM</td>\n",
       "      <td>226</td>\n",
       "    </tr>\n",
       "    <tr>\n",
       "      <th>1</th>\n",
       "      <td>chr1</td>\n",
       "      <td>1202908</td>\n",
       "    </tr>\n",
       "    <tr>\n",
       "      <th>2</th>\n",
       "      <td>chr2</td>\n",
       "      <td>1179409</td>\n",
       "    </tr>\n",
       "    <tr>\n",
       "      <th>3</th>\n",
       "      <td>chr3</td>\n",
       "      <td>956939</td>\n",
       "    </tr>\n",
       "    <tr>\n",
       "      <th>4</th>\n",
       "      <td>chr4</td>\n",
       "      <td>841065</td>\n",
       "    </tr>\n",
       "  </tbody>\n",
       "</table>\n",
       "</div>"
      ],
      "text/plain": [
       "  Sequence name  Mapped segments\n",
       "0          chrM              226\n",
       "1          chr1          1202908\n",
       "2          chr2          1179409\n",
       "3          chr3           956939\n",
       "4          chr4           841065"
      ]
     },
     "execution_count": 49,
     "metadata": {},
     "output_type": "execute_result"
    }
   ],
   "source": [
    "chr_mapped.head()"
   ]
  },
  {
   "cell_type": "code",
   "execution_count": 50,
   "id": "b9aa4ce7-b00a-45f8-930a-ffef0aa3dd25",
   "metadata": {},
   "outputs": [],
   "source": [
    "chr_mapped_2 = idx_df.iloc[:,[0,2]] #Indexing with iloc or loc"
   ]
  },
  {
   "cell_type": "code",
   "execution_count": 51,
   "id": "9ab982cd-9f75-4b79-a690-2a8a5cc1462e",
   "metadata": {},
   "outputs": [
    {
     "data": {
      "text/html": [
       "<div>\n",
       "<style scoped>\n",
       "    .dataframe tbody tr th:only-of-type {\n",
       "        vertical-align: middle;\n",
       "    }\n",
       "\n",
       "    .dataframe tbody tr th {\n",
       "        vertical-align: top;\n",
       "    }\n",
       "\n",
       "    .dataframe thead th {\n",
       "        text-align: right;\n",
       "    }\n",
       "</style>\n",
       "<table border=\"1\" class=\"dataframe\">\n",
       "  <thead>\n",
       "    <tr style=\"text-align: right;\">\n",
       "      <th></th>\n",
       "      <th>Sequence name</th>\n",
       "      <th>Mapped segments</th>\n",
       "    </tr>\n",
       "  </thead>\n",
       "  <tbody>\n",
       "    <tr>\n",
       "      <th>0</th>\n",
       "      <td>chrM</td>\n",
       "      <td>226</td>\n",
       "    </tr>\n",
       "    <tr>\n",
       "      <th>1</th>\n",
       "      <td>chr1</td>\n",
       "      <td>1202908</td>\n",
       "    </tr>\n",
       "    <tr>\n",
       "      <th>2</th>\n",
       "      <td>chr2</td>\n",
       "      <td>1179409</td>\n",
       "    </tr>\n",
       "    <tr>\n",
       "      <th>3</th>\n",
       "      <td>chr3</td>\n",
       "      <td>956939</td>\n",
       "    </tr>\n",
       "    <tr>\n",
       "      <th>4</th>\n",
       "      <td>chr4</td>\n",
       "      <td>841065</td>\n",
       "    </tr>\n",
       "  </tbody>\n",
       "</table>\n",
       "</div>"
      ],
      "text/plain": [
       "  Sequence name  Mapped segments\n",
       "0          chrM              226\n",
       "1          chr1          1202908\n",
       "2          chr2          1179409\n",
       "3          chr3           956939\n",
       "4          chr4           841065"
      ]
     },
     "execution_count": 51,
     "metadata": {},
     "output_type": "execute_result"
    }
   ],
   "source": [
    "chr_mapped_2.head()"
   ]
  },
  {
   "cell_type": "code",
   "execution_count": 53,
   "id": "904e6787-0d3f-42ca-be6b-647ab6781d7e",
   "metadata": {},
   "outputs": [],
   "source": [
    "chr_mapped.to_csv('mapped_reads_per_chr.tsv', sep='\\t')"
   ]
  },
  {
   "cell_type": "code",
   "execution_count": 82,
   "id": "ddc56d2f-5083-4b5d-9fc7-5ade229526dd",
   "metadata": {},
   "outputs": [],
   "source": [
    "idx_df['reads_per_base'] = idx_df.iloc[:, 2]/idx_df.iloc[:, 1]"
   ]
  },
  {
   "cell_type": "code",
   "execution_count": 83,
   "id": "59ba6c4b-13dd-460e-9de8-02acb914a124",
   "metadata": {},
   "outputs": [
    {
     "data": {
      "text/html": [
       "<div>\n",
       "<style scoped>\n",
       "    .dataframe tbody tr th:only-of-type {\n",
       "        vertical-align: middle;\n",
       "    }\n",
       "\n",
       "    .dataframe tbody tr th {\n",
       "        vertical-align: top;\n",
       "    }\n",
       "\n",
       "    .dataframe thead th {\n",
       "        text-align: right;\n",
       "    }\n",
       "</style>\n",
       "<table border=\"1\" class=\"dataframe\">\n",
       "  <thead>\n",
       "    <tr style=\"text-align: right;\">\n",
       "      <th></th>\n",
       "      <th>Sequence name</th>\n",
       "      <th>Sequence length</th>\n",
       "      <th>Mapped segments</th>\n",
       "      <th>Unmapped segments</th>\n",
       "      <th>length_Mbs</th>\n",
       "      <th>reads_per_base</th>\n",
       "    </tr>\n",
       "  </thead>\n",
       "  <tbody>\n",
       "    <tr>\n",
       "      <th>0</th>\n",
       "      <td>chrM</td>\n",
       "      <td>16571</td>\n",
       "      <td>226</td>\n",
       "      <td>2</td>\n",
       "      <td>0.016571</td>\n",
       "      <td>0.013638</td>\n",
       "    </tr>\n",
       "    <tr>\n",
       "      <th>1</th>\n",
       "      <td>chr1</td>\n",
       "      <td>249250621</td>\n",
       "      <td>1202908</td>\n",
       "      <td>11586</td>\n",
       "      <td>249.250621</td>\n",
       "      <td>0.004826</td>\n",
       "    </tr>\n",
       "    <tr>\n",
       "      <th>2</th>\n",
       "      <td>chr2</td>\n",
       "      <td>243199373</td>\n",
       "      <td>1179409</td>\n",
       "      <td>11950</td>\n",
       "      <td>243.199373</td>\n",
       "      <td>0.004850</td>\n",
       "    </tr>\n",
       "    <tr>\n",
       "      <th>3</th>\n",
       "      <td>chr3</td>\n",
       "      <td>198022430</td>\n",
       "      <td>956939</td>\n",
       "      <td>7894</td>\n",
       "      <td>198.022430</td>\n",
       "      <td>0.004832</td>\n",
       "    </tr>\n",
       "    <tr>\n",
       "      <th>4</th>\n",
       "      <td>chr4</td>\n",
       "      <td>191154276</td>\n",
       "      <td>841065</td>\n",
       "      <td>8496</td>\n",
       "      <td>191.154276</td>\n",
       "      <td>0.004400</td>\n",
       "    </tr>\n",
       "  </tbody>\n",
       "</table>\n",
       "</div>"
      ],
      "text/plain": [
       "  Sequence name  Sequence length  Mapped segments  Unmapped segments  \\\n",
       "0          chrM            16571              226                  2   \n",
       "1          chr1        249250621          1202908              11586   \n",
       "2          chr2        243199373          1179409              11950   \n",
       "3          chr3        198022430           956939               7894   \n",
       "4          chr4        191154276           841065               8496   \n",
       "\n",
       "   length_Mbs  reads_per_base  \n",
       "0    0.016571        0.013638  \n",
       "1  249.250621        0.004826  \n",
       "2  243.199373        0.004850  \n",
       "3  198.022430        0.004832  \n",
       "4  191.154276        0.004400  "
      ]
     },
     "execution_count": 83,
     "metadata": {},
     "output_type": "execute_result"
    }
   ],
   "source": [
    "idx_df.head()"
   ]
  },
  {
   "cell_type": "code",
   "execution_count": 84,
   "id": "a03c7849-356d-403b-bacf-35841a5d1ada",
   "metadata": {},
   "outputs": [],
   "source": [
    "idx_df['length_Mbs'] = idx_df.iloc[:, 1]/1000000"
   ]
  },
  {
   "cell_type": "code",
   "execution_count": 85,
   "id": "efa996ba-feaf-43b4-94a9-17e662064b22",
   "metadata": {},
   "outputs": [
    {
     "data": {
      "text/html": [
       "<div>\n",
       "<style scoped>\n",
       "    .dataframe tbody tr th:only-of-type {\n",
       "        vertical-align: middle;\n",
       "    }\n",
       "\n",
       "    .dataframe tbody tr th {\n",
       "        vertical-align: top;\n",
       "    }\n",
       "\n",
       "    .dataframe thead th {\n",
       "        text-align: right;\n",
       "    }\n",
       "</style>\n",
       "<table border=\"1\" class=\"dataframe\">\n",
       "  <thead>\n",
       "    <tr style=\"text-align: right;\">\n",
       "      <th></th>\n",
       "      <th>Sequence name</th>\n",
       "      <th>Sequence length</th>\n",
       "      <th>Mapped segments</th>\n",
       "      <th>Unmapped segments</th>\n",
       "      <th>length_Mbs</th>\n",
       "      <th>reads_per_base</th>\n",
       "    </tr>\n",
       "  </thead>\n",
       "  <tbody>\n",
       "    <tr>\n",
       "      <th>0</th>\n",
       "      <td>chrM</td>\n",
       "      <td>16571</td>\n",
       "      <td>226</td>\n",
       "      <td>2</td>\n",
       "      <td>0.016571</td>\n",
       "      <td>0.013638</td>\n",
       "    </tr>\n",
       "    <tr>\n",
       "      <th>1</th>\n",
       "      <td>chr1</td>\n",
       "      <td>249250621</td>\n",
       "      <td>1202908</td>\n",
       "      <td>11586</td>\n",
       "      <td>249.250621</td>\n",
       "      <td>0.004826</td>\n",
       "    </tr>\n",
       "    <tr>\n",
       "      <th>2</th>\n",
       "      <td>chr2</td>\n",
       "      <td>243199373</td>\n",
       "      <td>1179409</td>\n",
       "      <td>11950</td>\n",
       "      <td>243.199373</td>\n",
       "      <td>0.004850</td>\n",
       "    </tr>\n",
       "    <tr>\n",
       "      <th>3</th>\n",
       "      <td>chr3</td>\n",
       "      <td>198022430</td>\n",
       "      <td>956939</td>\n",
       "      <td>7894</td>\n",
       "      <td>198.022430</td>\n",
       "      <td>0.004832</td>\n",
       "    </tr>\n",
       "    <tr>\n",
       "      <th>4</th>\n",
       "      <td>chr4</td>\n",
       "      <td>191154276</td>\n",
       "      <td>841065</td>\n",
       "      <td>8496</td>\n",
       "      <td>191.154276</td>\n",
       "      <td>0.004400</td>\n",
       "    </tr>\n",
       "  </tbody>\n",
       "</table>\n",
       "</div>"
      ],
      "text/plain": [
       "  Sequence name  Sequence length  Mapped segments  Unmapped segments  \\\n",
       "0          chrM            16571              226                  2   \n",
       "1          chr1        249250621          1202908              11586   \n",
       "2          chr2        243199373          1179409              11950   \n",
       "3          chr3        198022430           956939               7894   \n",
       "4          chr4        191154276           841065               8496   \n",
       "\n",
       "   length_Mbs  reads_per_base  \n",
       "0    0.016571        0.013638  \n",
       "1  249.250621        0.004826  \n",
       "2  243.199373        0.004850  \n",
       "3  198.022430        0.004832  \n",
       "4  191.154276        0.004400  "
      ]
     },
     "execution_count": 85,
     "metadata": {},
     "output_type": "execute_result"
    }
   ],
   "source": [
    "idx_df.head()"
   ]
  },
  {
   "cell_type": "code",
   "execution_count": 86,
   "id": "f27c57c8-d496-4be5-92d9-4ea281df81e0",
   "metadata": {},
   "outputs": [],
   "source": [
    "cond1 = (idx_df['reads_per_base'] > 0.005) & (idx_df['length_Mbs'] < 100)"
   ]
  },
  {
   "cell_type": "code",
   "execution_count": 87,
   "id": "749daae6-b84d-4e5d-b068-40f66de70702",
   "metadata": {},
   "outputs": [],
   "source": [
    "idx_df_2 = idx_df[cond1]"
   ]
  },
  {
   "cell_type": "code",
   "execution_count": 88,
   "id": "84a5f056-0cf6-4c8c-8e3e-6aec07e58dc0",
   "metadata": {},
   "outputs": [
    {
     "data": {
      "text/html": [
       "<div>\n",
       "<style scoped>\n",
       "    .dataframe tbody tr th:only-of-type {\n",
       "        vertical-align: middle;\n",
       "    }\n",
       "\n",
       "    .dataframe tbody tr th {\n",
       "        vertical-align: top;\n",
       "    }\n",
       "\n",
       "    .dataframe thead th {\n",
       "        text-align: right;\n",
       "    }\n",
       "</style>\n",
       "<table border=\"1\" class=\"dataframe\">\n",
       "  <thead>\n",
       "    <tr style=\"text-align: right;\">\n",
       "      <th></th>\n",
       "      <th>Sequence name</th>\n",
       "      <th>Sequence length</th>\n",
       "      <th>Mapped segments</th>\n",
       "      <th>Unmapped segments</th>\n",
       "      <th>length_Mbs</th>\n",
       "      <th>reads_per_base</th>\n",
       "    </tr>\n",
       "  </thead>\n",
       "  <tbody>\n",
       "    <tr>\n",
       "      <th>0</th>\n",
       "      <td>chrM</td>\n",
       "      <td>16571</td>\n",
       "      <td>226</td>\n",
       "      <td>2</td>\n",
       "      <td>0.016571</td>\n",
       "      <td>0.013638</td>\n",
       "    </tr>\n",
       "    <tr>\n",
       "      <th>16</th>\n",
       "      <td>chr16</td>\n",
       "      <td>90354753</td>\n",
       "      <td>483073</td>\n",
       "      <td>5439</td>\n",
       "      <td>90.354753</td>\n",
       "      <td>0.005346</td>\n",
       "    </tr>\n",
       "    <tr>\n",
       "      <th>17</th>\n",
       "      <td>chr17</td>\n",
       "      <td>81195210</td>\n",
       "      <td>532624</td>\n",
       "      <td>5339</td>\n",
       "      <td>81.195210</td>\n",
       "      <td>0.006560</td>\n",
       "    </tr>\n",
       "    <tr>\n",
       "      <th>19</th>\n",
       "      <td>chr19</td>\n",
       "      <td>59128983</td>\n",
       "      <td>407712</td>\n",
       "      <td>5882</td>\n",
       "      <td>59.128983</td>\n",
       "      <td>0.006895</td>\n",
       "    </tr>\n",
       "    <tr>\n",
       "      <th>20</th>\n",
       "      <td>chr20</td>\n",
       "      <td>63025520</td>\n",
       "      <td>321007</td>\n",
       "      <td>3280</td>\n",
       "      <td>63.025520</td>\n",
       "      <td>0.005093</td>\n",
       "    </tr>\n",
       "  </tbody>\n",
       "</table>\n",
       "</div>"
      ],
      "text/plain": [
       "   Sequence name  Sequence length  Mapped segments  Unmapped segments  \\\n",
       "0           chrM            16571              226                  2   \n",
       "16         chr16         90354753           483073               5439   \n",
       "17         chr17         81195210           532624               5339   \n",
       "19         chr19         59128983           407712               5882   \n",
       "20         chr20         63025520           321007               3280   \n",
       "\n",
       "    length_Mbs  reads_per_base  \n",
       "0     0.016571        0.013638  \n",
       "16   90.354753        0.005346  \n",
       "17   81.195210        0.006560  \n",
       "19   59.128983        0.006895  \n",
       "20   63.025520        0.005093  "
      ]
     },
     "execution_count": 88,
     "metadata": {},
     "output_type": "execute_result"
    }
   ],
   "source": [
    "idx_df_2.head()"
   ]
  },
  {
   "cell_type": "code",
   "execution_count": 89,
   "id": "7a460bfa-956a-42bd-a710-6727377c8120",
   "metadata": {},
   "outputs": [
    {
     "data": {
      "text/plain": [
       "Int64Index([0, 16, 17, 19, 20], dtype='int64')"
      ]
     },
     "execution_count": 89,
     "metadata": {},
     "output_type": "execute_result"
    }
   ],
   "source": [
    "idx_df_2.index"
   ]
  },
  {
   "cell_type": "code",
   "execution_count": 90,
   "id": "63446c4d-29f7-419a-9b91-21c491441d5d",
   "metadata": {},
   "outputs": [
    {
     "data": {
      "text/plain": [
       "(5, 6)"
      ]
     },
     "execution_count": 90,
     "metadata": {},
     "output_type": "execute_result"
    }
   ],
   "source": [
    "idx_df_2.shape"
   ]
  },
  {
   "cell_type": "code",
   "execution_count": 78,
   "id": "0a96eaeb-0804-4ba7-b2c4-7250741c3def",
   "metadata": {},
   "outputs": [
    {
     "data": {
      "text/plain": [
       "0      True\n",
       "1     False\n",
       "2     False\n",
       "3     False\n",
       "4     False\n",
       "5     False\n",
       "6     False\n",
       "7     False\n",
       "8     False\n",
       "9     False\n",
       "10    False\n",
       "11    False\n",
       "12    False\n",
       "13    False\n",
       "14    False\n",
       "15    False\n",
       "16     True\n",
       "17     True\n",
       "18    False\n",
       "19     True\n",
       "20     True\n",
       "21    False\n",
       "22    False\n",
       "23    False\n",
       "24    False\n",
       "25    False\n",
       "dtype: bool"
      ]
     },
     "execution_count": 78,
     "metadata": {},
     "output_type": "execute_result"
    }
   ],
   "source": [
    "cond1"
   ]
  },
  {
   "cell_type": "code",
   "execution_count": 91,
   "id": "f269bde9-5929-4847-bec5-a8647e0dd0f4",
   "metadata": {},
   "outputs": [],
   "source": [
    "idx_df_3 = idx_df.drop('reads_per_base', axis = 1)"
   ]
  },
  {
   "cell_type": "code",
   "execution_count": 92,
   "id": "d3bd9399-d4da-4a93-82da-a8a39df29816",
   "metadata": {},
   "outputs": [
    {
     "data": {
      "text/html": [
       "<div>\n",
       "<style scoped>\n",
       "    .dataframe tbody tr th:only-of-type {\n",
       "        vertical-align: middle;\n",
       "    }\n",
       "\n",
       "    .dataframe tbody tr th {\n",
       "        vertical-align: top;\n",
       "    }\n",
       "\n",
       "    .dataframe thead th {\n",
       "        text-align: right;\n",
       "    }\n",
       "</style>\n",
       "<table border=\"1\" class=\"dataframe\">\n",
       "  <thead>\n",
       "    <tr style=\"text-align: right;\">\n",
       "      <th></th>\n",
       "      <th>Sequence name</th>\n",
       "      <th>Sequence length</th>\n",
       "      <th>Mapped segments</th>\n",
       "      <th>Unmapped segments</th>\n",
       "      <th>length_Mbs</th>\n",
       "    </tr>\n",
       "  </thead>\n",
       "  <tbody>\n",
       "    <tr>\n",
       "      <th>0</th>\n",
       "      <td>chrM</td>\n",
       "      <td>16571</td>\n",
       "      <td>226</td>\n",
       "      <td>2</td>\n",
       "      <td>0.016571</td>\n",
       "    </tr>\n",
       "    <tr>\n",
       "      <th>1</th>\n",
       "      <td>chr1</td>\n",
       "      <td>249250621</td>\n",
       "      <td>1202908</td>\n",
       "      <td>11586</td>\n",
       "      <td>249.250621</td>\n",
       "    </tr>\n",
       "    <tr>\n",
       "      <th>2</th>\n",
       "      <td>chr2</td>\n",
       "      <td>243199373</td>\n",
       "      <td>1179409</td>\n",
       "      <td>11950</td>\n",
       "      <td>243.199373</td>\n",
       "    </tr>\n",
       "    <tr>\n",
       "      <th>3</th>\n",
       "      <td>chr3</td>\n",
       "      <td>198022430</td>\n",
       "      <td>956939</td>\n",
       "      <td>7894</td>\n",
       "      <td>198.022430</td>\n",
       "    </tr>\n",
       "    <tr>\n",
       "      <th>4</th>\n",
       "      <td>chr4</td>\n",
       "      <td>191154276</td>\n",
       "      <td>841065</td>\n",
       "      <td>8496</td>\n",
       "      <td>191.154276</td>\n",
       "    </tr>\n",
       "  </tbody>\n",
       "</table>\n",
       "</div>"
      ],
      "text/plain": [
       "  Sequence name  Sequence length  Mapped segments  Unmapped segments  \\\n",
       "0          chrM            16571              226                  2   \n",
       "1          chr1        249250621          1202908              11586   \n",
       "2          chr2        243199373          1179409              11950   \n",
       "3          chr3        198022430           956939               7894   \n",
       "4          chr4        191154276           841065               8496   \n",
       "\n",
       "   length_Mbs  \n",
       "0    0.016571  \n",
       "1  249.250621  \n",
       "2  243.199373  \n",
       "3  198.022430  \n",
       "4  191.154276  "
      ]
     },
     "execution_count": 92,
     "metadata": {},
     "output_type": "execute_result"
    }
   ],
   "source": [
    "idx_df_3.head()"
   ]
  },
  {
   "cell_type": "code",
   "execution_count": 93,
   "id": "3b190f9c-bfae-47ea-9fde-ea8a009431df",
   "metadata": {},
   "outputs": [
    {
     "data": {
      "text/plain": [
       "(26, 5)"
      ]
     },
     "execution_count": 93,
     "metadata": {},
     "output_type": "execute_result"
    }
   ],
   "source": [
    "idx_df_3.shape"
   ]
  },
  {
   "cell_type": "code",
   "execution_count": 102,
   "id": "64cab508-caa7-4343-addf-8dfe430fbdcc",
   "metadata": {},
   "outputs": [
    {
     "data": {
      "text/html": [
       "<div>\n",
       "<style scoped>\n",
       "    .dataframe tbody tr th:only-of-type {\n",
       "        vertical-align: middle;\n",
       "    }\n",
       "\n",
       "    .dataframe tbody tr th {\n",
       "        vertical-align: top;\n",
       "    }\n",
       "\n",
       "    .dataframe thead th {\n",
       "        text-align: right;\n",
       "    }\n",
       "</style>\n",
       "<table border=\"1\" class=\"dataframe\">\n",
       "  <thead>\n",
       "    <tr style=\"text-align: right;\">\n",
       "      <th></th>\n",
       "      <th>Sequence name</th>\n",
       "      <th>Sequence length</th>\n",
       "      <th>Mapped segments</th>\n",
       "      <th>Unmapped segments</th>\n",
       "      <th>length_Mbs</th>\n",
       "      <th>reads_per_base</th>\n",
       "    </tr>\n",
       "  </thead>\n",
       "  <tbody>\n",
       "    <tr>\n",
       "      <th>0</th>\n",
       "      <td>chrM</td>\n",
       "      <td>16571</td>\n",
       "      <td>226</td>\n",
       "      <td>2</td>\n",
       "      <td>0.016571</td>\n",
       "      <td>0.013638</td>\n",
       "    </tr>\n",
       "    <tr>\n",
       "      <th>16</th>\n",
       "      <td>chr16</td>\n",
       "      <td>90354753</td>\n",
       "      <td>483073</td>\n",
       "      <td>5439</td>\n",
       "      <td>90.354753</td>\n",
       "      <td>0.005346</td>\n",
       "    </tr>\n",
       "    <tr>\n",
       "      <th>17</th>\n",
       "      <td>chr17</td>\n",
       "      <td>81195210</td>\n",
       "      <td>532624</td>\n",
       "      <td>5339</td>\n",
       "      <td>81.195210</td>\n",
       "      <td>0.006560</td>\n",
       "    </tr>\n",
       "    <tr>\n",
       "      <th>19</th>\n",
       "      <td>chr19</td>\n",
       "      <td>59128983</td>\n",
       "      <td>407712</td>\n",
       "      <td>5882</td>\n",
       "      <td>59.128983</td>\n",
       "      <td>0.006895</td>\n",
       "    </tr>\n",
       "    <tr>\n",
       "      <th>20</th>\n",
       "      <td>chr20</td>\n",
       "      <td>63025520</td>\n",
       "      <td>321007</td>\n",
       "      <td>3280</td>\n",
       "      <td>63.025520</td>\n",
       "      <td>0.005093</td>\n",
       "    </tr>\n",
       "  </tbody>\n",
       "</table>\n",
       "</div>"
      ],
      "text/plain": [
       "   Sequence name  Sequence length  Mapped segments  Unmapped segments  \\\n",
       "0           chrM            16571              226                  2   \n",
       "16         chr16         90354753           483073               5439   \n",
       "17         chr17         81195210           532624               5339   \n",
       "19         chr19         59128983           407712               5882   \n",
       "20         chr20         63025520           321007               3280   \n",
       "\n",
       "    length_Mbs  reads_per_base  \n",
       "0     0.016571        0.013638  \n",
       "16   90.354753        0.005346  \n",
       "17   81.195210        0.006560  \n",
       "19   59.128983        0.006895  \n",
       "20   63.025520        0.005093  "
      ]
     },
     "execution_count": 102,
     "metadata": {},
     "output_type": "execute_result"
    }
   ],
   "source": [
    "idx_df.query(\"reads_per_base > 0.005 & length_Mbs < 100\")"
   ]
  },
  {
   "cell_type": "code",
   "execution_count": 103,
   "id": "cbc079ae-c787-4b5a-962a-a652da52bf12",
   "metadata": {},
   "outputs": [
    {
     "data": {
      "text/plain": [
       "(26, 6)"
      ]
     },
     "execution_count": 103,
     "metadata": {},
     "output_type": "execute_result"
    }
   ],
   "source": [
    "idx_df.shape"
   ]
  },
  {
   "cell_type": "code",
   "execution_count": 104,
   "id": "8a7df45e-0a30-4a2b-87a1-1712df7db92f",
   "metadata": {},
   "outputs": [
    {
     "data": {
      "text/html": [
       "<div>\n",
       "<style scoped>\n",
       "    .dataframe tbody tr th:only-of-type {\n",
       "        vertical-align: middle;\n",
       "    }\n",
       "\n",
       "    .dataframe tbody tr th {\n",
       "        vertical-align: top;\n",
       "    }\n",
       "\n",
       "    .dataframe thead th {\n",
       "        text-align: right;\n",
       "    }\n",
       "</style>\n",
       "<table border=\"1\" class=\"dataframe\">\n",
       "  <thead>\n",
       "    <tr style=\"text-align: right;\">\n",
       "      <th></th>\n",
       "      <th>Sequence name</th>\n",
       "      <th>Sequence length</th>\n",
       "      <th>Mapped segments</th>\n",
       "      <th>Unmapped segments</th>\n",
       "      <th>length_Mbs</th>\n",
       "      <th>reads_per_base</th>\n",
       "    </tr>\n",
       "  </thead>\n",
       "  <tbody>\n",
       "    <tr>\n",
       "      <th>0</th>\n",
       "      <td>chrM</td>\n",
       "      <td>16571</td>\n",
       "      <td>226</td>\n",
       "      <td>2</td>\n",
       "      <td>0.016571</td>\n",
       "      <td>0.013638</td>\n",
       "    </tr>\n",
       "  </tbody>\n",
       "</table>\n",
       "</div>"
      ],
      "text/plain": [
       "  Sequence name  Sequence length  Mapped segments  Unmapped segments  \\\n",
       "0          chrM            16571              226                  2   \n",
       "\n",
       "   length_Mbs  reads_per_base  \n",
       "0    0.016571        0.013638  "
      ]
     },
     "execution_count": 104,
     "metadata": {},
     "output_type": "execute_result"
    }
   ],
   "source": [
    "idx_df.query(\"`Sequence name` == 'chrM' & length_Mbs < 100\")"
   ]
  },
  {
   "cell_type": "code",
   "execution_count": null,
   "id": "bbf7f9ec-5a6f-43a2-9988-f8b73e0f682e",
   "metadata": {},
   "outputs": [],
   "source": [
    "type(idx_df)\n",
    "\n",
    "idx_df.query(\"`Sequence name` == '@chr_name' & length_Mbs < 100\")\n",
    "\n"
   ]
  }
 ],
 "metadata": {
  "kernelspec": {
   "display_name": "Python 3 (ipykernel)",
   "language": "python",
   "name": "python3"
  },
  "language_info": {
   "codemirror_mode": {
    "name": "ipython",
    "version": 3
   },
   "file_extension": ".py",
   "mimetype": "text/x-python",
   "name": "python",
   "nbconvert_exporter": "python",
   "pygments_lexer": "ipython3",
   "version": "3.9.12"
  }
 },
 "nbformat": 4,
 "nbformat_minor": 5
}
